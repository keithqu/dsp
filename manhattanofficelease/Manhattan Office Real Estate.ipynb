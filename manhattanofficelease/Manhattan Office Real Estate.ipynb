{
 "cells": [
  {
   "cell_type": "markdown",
   "metadata": {},
   "source": [
    "# Predicting Office Lease Rates in Manhattan\n",
    "\n",
    "Manhattan is a pretty interesting place, and like all major cities it has an abundance of office buildings. Sometimes you might find yourself in need of your own office, at which point you will either start one in your home or garage, or look for a rental.\n",
    "\n",
    "However, many office rental listings don't include the price, but many years of research and all of human history suggests that price is one of the most important factors in any purchasing decision. Fortunately, there many listings that do include the price, so we can try to construct a model that estimates the missing data.\n",
    "\n",
    "The data was obtained from a major commercial real estate site in December 2017, and will not be made available here.\n",
    "\n",
    "Contents:\n",
    "\n",
    "<ul>\n",
    "<li>Overview</li>\n",
    "<li>Cleaning and Exploration</li>\n",
    "<li>Feature Discussion</li>\n",
    "<li>Model Fitting</li>\n",
    "</ul>"
   ]
  },
  {
   "cell_type": "markdown",
   "metadata": {},
   "source": [
    "## Overview"
   ]
  },
  {
   "cell_type": "markdown",
   "metadata": {},
   "source": [
    "Of the 1369 rental rates in $/sf/yr, 830 are \"Not Disclosed\", for a split of 39.4% disclosed, 60.6% not disclosed. This is not great but some of the not disclosed listings are actually in the same building as disclosed listings, so let's claim to have an even 40% of the price data.\n",
    "\n",
    "The target variable is <b>rate</b>, while the features are:\n",
    "<ul>\n",
    "<li>name: the address of the building the rental unit is located in</li>\n",
    "<li>building_sqft: the total floor space of the building</li>\n",
    "<li>property_type: the vast majority are pure office buildings, but some may be medical, industrial or retail oriented</li>\n",
    "<li>building_class: the DOMA classification from A (best) to C (worst). Only available for pure office buildings</li>\n",
    "<li>building_age: the age in years</li>\n",
    "<li>walk_score: the ease of walking near the building, based on nearby amenities</li>\n",
    "<li>transit_score: ease of access to public transportation.</li>\n",
    "<li>space_name: the name of the rental unit, usually the floor it's on</li>\n",
    "<li>space_sqft: the floor space of the rental unit</li>\n",
    "<li>service_type: the amount of utilities provided</li>\n",
    "<li>space_use: yes, they're all offices, but there are different kinds of offices</li>\n",
    "</ul>\n",
    "\n",
    "This is not a huge number of features"
   ]
  },
  {
   "cell_type": "code",
   "execution_count": 1,
   "metadata": {
    "collapsed": true
   },
   "outputs": [],
   "source": [
    "from geopy.geocoders import GoogleV3\n",
    "import pandas as pd\n",
    "import numpy as np\n",
    "import sys\n",
    "import re\n",
    "import json\n",
    "from time import sleep\n",
    "import unicodedata\n",
    "geolocator = GoogleV3()"
   ]
  },
  {
   "cell_type": "code",
   "execution_count": 2,
   "metadata": {
    "collapsed": true
   },
   "outputs": [],
   "source": [
    "ny_office_lease = pd.read_csv('new-york-ny-lease-office_2017-12-23.csv', index_col=0)\n",
    "addr_list=np.ndarray.tolist(ny_office_lease.name.unique())"
   ]
  },
  {
   "cell_type": "code",
   "execution_count": 3,
   "metadata": {},
   "outputs": [
    {
     "data": {
      "text/plain": [
       "1369"
      ]
     },
     "execution_count": 3,
     "metadata": {},
     "output_type": "execute_result"
    }
   ],
   "source": [
    "len(ny_office_lease)"
   ]
  },
  {
   "cell_type": "code",
   "execution_count": 4,
   "metadata": {},
   "outputs": [
    {
     "data": {
      "text/plain": [
       "Not Disclosed    830\n",
       "$65.00 /SF/Yr     30\n",
       "$55.00 /SF/Yr     24\n",
       "Name: rate, dtype: int64"
      ]
     },
     "execution_count": 4,
     "metadata": {},
     "output_type": "execute_result"
    }
   ],
   "source": [
    "ny_office_lease['rate'].value_counts().head(3)"
   ]
  },
  {
   "cell_type": "markdown",
   "metadata": {},
   "source": [
    "Only 450 buildings, an average of over 3 listings per building."
   ]
  },
  {
   "cell_type": "code",
   "execution_count": 5,
   "metadata": {},
   "outputs": [
    {
     "data": {
      "text/plain": [
       "450"
      ]
     },
     "execution_count": 5,
     "metadata": {},
     "output_type": "execute_result"
    }
   ],
   "source": [
    "len (addr_list)"
   ]
  },
  {
   "cell_type": "code",
   "execution_count": 6,
   "metadata": {},
   "outputs": [
    {
     "data": {
      "text/plain": [
       "225"
      ]
     },
     "execution_count": 6,
     "metadata": {},
     "output_type": "execute_result"
    }
   ],
   "source": [
    "len(np.ndarray.tolist(ny_office_lease[ny_office_lease['rate']!='Not Disclosed'].name.unique()))"
   ]
  },
  {
   "cell_type": "markdown",
   "metadata": {},
   "source": [
    "Again, the data is not ideal, but it is fairly complete with very few missing values in the features. We can certainly obtain more, by using multiple sources and websites and time periods, and compiling them all together. But let's see how information we can extract from these observations with these features."
   ]
  },
  {
   "cell_type": "markdown",
   "metadata": {},
   "source": [
    "## Cleaning, Setting Types, Creating Classifications"
   ]
  },
  {
   "cell_type": "markdown",
   "metadata": {
    "collapsed": true
   },
   "source": [
    "We have the addresses of each property, which means we can obtain the geographic coordinates. With those, we can label each building with a location classification. It is reasonable to assume that location has a major effect on price.\n",
    "\n",
    "For the other variables, it is mainly a matter of extracting useful numeric information from strings, and filling in a few missing walk and transit scores that are available from walkscore.com, but for some reason not included in the listings."
   ]
  },
  {
   "cell_type": "markdown",
   "metadata": {},
   "source": [
    "### Name/Address - Getting Coordinates and Clustering\n",
    "\n",
    "The number and street name of an address by themselves generally do not mean much (limited exceptions may include Wall Street, and other famous streets), but the address gives us information about the geographic position of a property through its coordinates. By extracting the coordinates, we can classify by geography via clustering methods such as K Means."
   ]
  },
  {
   "cell_type": "code",
   "execution_count": 7,
   "metadata": {
    "collapsed": true
   },
   "outputs": [],
   "source": [
    "# Getting coordinates for each address (A list of uniques)\n",
    "# The GoogleV3 engine seems to time out much more than Nominatim but it's much better at handling ambiguity (eg. Seventh = 7th)\n",
    "# Exception wrapping is used to retry the query in case of failure, and there is constant saving to make sure no\n",
    "# progress is lost.\n",
    "# The functions coords_wrapper and collect_coords should be combined. There is really no reason for them to be separate\n",
    "# and the constant reloading can be avoided, though for smallish files it's not a big deal.\n",
    "# NOTE: some listings are actually in multiple buildings with an address range such as 191-199. The Google engine returns\n",
    "# a single set of geographic coordinates for the first or last building in that range. This is fine, since they should be\n",
    "# within the same cluster anyway.\n",
    "\n",
    "def get_coord(address):\n",
    "    print ('Getting' , address)\n",
    "    geoloc = geolocator.geocode(address)\n",
    "    sleep(0.5)\n",
    "    print ('Got ', geoloc, '\\n')\n",
    "    return (geoloc.latitude, geoloc.longitude)\n",
    "            \n",
    "def coords_wrapper(addr_list):\n",
    "\n",
    "    # Start at the beginning of addr_list\n",
    "    break_point = 0\n",
    "    \n",
    "    # Open the file if it exists, otherwise create a new empty file\n",
    "    try:\n",
    "        with open('nyc_lease_coordinates.json', 'r') as infile:\n",
    "            uniques = json.load(infile)\n",
    "    except:\n",
    "        with open('nyc_lease_coordinates.json', 'w') as outfile:\n",
    "            uniques={}\n",
    "            json.dump(uniques,outfile)\n",
    "    \n",
    "    # do while there are still addresses to process\n",
    "    while(break_point < len(addr_list)):\n",
    "        # run collect_coords starting with the current breakpoint, and gets the\n",
    "        # address that it's stuck on\n",
    "        addr = addr_list[break_point]\n",
    "        try: \n",
    "            try:\n",
    "                uniques[addr] = get_coord(addr + ' Manhattan')\n",
    "                # If it works, get to the next one. Once break_point gets to the length of the list, the conditions of\n",
    "                # the loop will no longer be satisfied, and the loop ends.\n",
    "                break_point +=1\n",
    "                sleep(0.5)\n",
    "            except:\n",
    "                # If it doesn't work, don't increase the break_point and try again\n",
    "                print ('Could not get ', addr)\n",
    "                sleep(0.5)\n",
    "        except:\n",
    "            with open('nyc_lease_coordinates.json','w') as outfile:\n",
    "                json.dump(uniques,outfile)\n",
    "            sleep(0.5)\n",
    "\n",
    "    with open('nyc_lease_coordinates.json','w') as outfile:\n",
    "        json.dump(uniques,outfile)       "
   ]
  },
  {
   "cell_type": "code",
   "execution_count": 8,
   "metadata": {
    "collapsed": true
   },
   "outputs": [],
   "source": [
    "ny_office_lease = pd.read_csv('new-york-ny-lease-office_2017-12-23.csv', index_col=0)\n",
    "addr_list=np.ndarray.tolist(ny_office_lease.name.unique())"
   ]
  },
  {
   "cell_type": "code",
   "execution_count": 9,
   "metadata": {
    "collapsed": true
   },
   "outputs": [],
   "source": [
    "#coords_wrapper(addr_list)"
   ]
  },
  {
   "cell_type": "code",
   "execution_count": 10,
   "metadata": {
    "collapsed": true,
    "scrolled": true
   },
   "outputs": [],
   "source": [
    "with open('nyc_lease_coordinates.json', 'r') as infile:\n",
    "    uniques = json.load(infile)\n",
    "\n",
    "ny_office_lease['coords'] = ny_office_lease['name'].map(uniques)\n",
    "coords=pd.DataFrame(addr_list)[0].map(uniques)\n",
    "coords = coords.values.tolist()\n",
    "lats = [i[0] for i in coords]\n",
    "longs = [i[1] for i in coords]"
   ]
  },
  {
   "cell_type": "markdown",
   "metadata": {},
   "source": [
    "With this list of unique coordinates, we can use K Means to cluster them around a yet to be determined number of centroids."
   ]
  },
  {
   "cell_type": "code",
   "execution_count": 11,
   "metadata": {
    "collapsed": true
   },
   "outputs": [],
   "source": [
    "from scipy import linalg\n",
    "from sklearn.cluster import KMeans\n",
    "from scipy.spatial.distance import cdist\n",
    "from scipy.spatial import ConvexHull\n",
    "import matplotlib.pyplot as plt\n",
    "import seaborn as sns\n",
    "%matplotlib inline"
   ]
  },
  {
   "cell_type": "markdown",
   "metadata": {},
   "source": [
    "Let's do an elbow analysis to see the rate of decline of the sum of squared errors from a centroid as the number of centroids increases."
   ]
  },
  {
   "cell_type": "code",
   "execution_count": 12,
   "metadata": {},
   "outputs": [
    {
     "data": {
      "text/plain": [
       "Text(0.5,1,'SSE vs k')"
      ]
     },
     "execution_count": 12,
     "metadata": {},
     "output_type": "execute_result"
    },
    {
     "data": {
      "image/png": "[encoded data removed]",
      "text/plain": [
       "<matplotlib.figure.Figure at 0x169be455ba8>"
      ]
     },
     "metadata": {},
     "output_type": "display_data"
    }
   ],
   "source": [
    "SSE = []\n",
    "for k in range(1,25):\n",
    "    km = KMeans(n_clusters=k)\n",
    "    km.fit(coords)\n",
    "    labels = km.labels_\n",
    "    centroids = km.cluster_centers_\n",
    "    # Get the SSE\n",
    "    SSE.append(sum(np.min(cdist(coords, centroids, 'euclidean'),axis=1))/len(coords))\n",
    "    \n",
    "plt.plot(range(1,25),SSE, 'bo--')\n",
    "plt.xlabel('k clusters')\n",
    "plt.ylabel('SSE')\n",
    "plt.title('SSE vs k')"
   ]
  },
  {
   "cell_type": "markdown",
   "metadata": {},
   "source": [
    "There is no standout elbow, but let's try 7, as the returns diminish noticeably after that (well, sort of noticeably)."
   ]
  },
  {
   "cell_type": "code",
   "execution_count": 13,
   "metadata": {
    "collapsed": true
   },
   "outputs": [],
   "source": [
    "k = 7\n",
    "km = KMeans(n_clusters=k)\n",
    "km.fit(coords)\n",
    "labels = km.labels_\n",
    "centroids = km.cluster_centers_"
   ]
  },
  {
   "cell_type": "code",
   "execution_count": 14,
   "metadata": {},
   "outputs": [
    {
     "data": {
      "text/plain": [
       "<matplotlib.legend.Legend at 0x169be51f400>"
      ]
     },
     "execution_count": 14,
     "metadata": {},
     "output_type": "execute_result"
    },
    {
     "data": {
      "image/png": "[encoded data removed]",
      "text/plain": [
       "<matplotlib.figure.Figure at 0x169be52ed30>"
      ]
     },
     "metadata": {},
     "output_type": "display_data"
    }
   ],
   "source": [
    "colors = ['r', 'g', 'b', 'y', 'c', 'm','C0','k']\n",
    "plt.figure(figsize=(8,8))\n",
    "plt.title('Clustered Locations')\n",
    "for j in range(k):\n",
    "    current_coords = np.asarray(coords)[np.where(labels==j)]\n",
    "    hull = ConvexHull(current_coords)\n",
    "    j_longs = current_coords[:,1]\n",
    "    j_lats =  current_coords[:,0]\n",
    "    plt.plot(j_longs, j_lats, '%so' % colors[j], label=j)\n",
    "    for simplex in hull.simplices:\n",
    "        #plt.plot(current_coords[simplex,1],current_coords[simplex,0], '%s--'%colors[j],alpha=0.3)\n",
    "        plt.plot(current_coords[simplex,1],current_coords[simplex,0], '--', color=colors[j],alpha=0.3)\n",
    "plt.legend()"
   ]
  },
  {
   "cell_type": "code",
   "execution_count": 15,
   "metadata": {
    "collapsed": true
   },
   "outputs": [],
   "source": [
    "ny_office_lease['location_cluster'] = ny_office_lease.name.map(dict(zip(addr_list,labels)))"
   ]
  },
  {
   "cell_type": "markdown",
   "metadata": {},
   "source": [
    "If we knew all the prices, that would be a very useful third dimension in the clustering, and the 2 dimensional geographic representation will not necessary have contingious clusters (such as in this <a href=\"http://nbviewer.jupyter.org/github/keithqu/dsp/blob/master/gasprices/gas%20prices.ipynb\">gas prices example</a>). Since the whole point is to estimate unknown rates, we can't do that.\n",
    "\n",
    "Neighbourhood census data may also give useful information for groupings, as well as for the overall analysis."
   ]
  },
  {
   "cell_type": "code",
   "execution_count": 16,
   "metadata": {},
   "outputs": [
    {
     "data": {
      "text/html": [
       "<div>\n",
       "<style scoped>\n",
       "    .dataframe tbody tr th:only-of-type {\n",
       "        vertical-align: middle;\n",
       "    }\n",
       "\n",
       "    .dataframe tbody tr th {\n",
       "        vertical-align: top;\n",
       "    }\n",
       "\n",
       "    .dataframe thead th {\n",
       "        text-align: right;\n",
       "    }\n",
       "</style>\n",
       "<table border=\"1\" class=\"dataframe\">\n",
       "  <thead>\n",
       "    <tr style=\"text-align: right;\">\n",
       "      <th></th>\n",
       "      <th>count</th>\n",
       "      <th>mean</th>\n",
       "      <th>std</th>\n",
       "      <th>min</th>\n",
       "      <th>25%</th>\n",
       "      <th>50%</th>\n",
       "      <th>75%</th>\n",
       "      <th>max</th>\n",
       "    </tr>\n",
       "    <tr>\n",
       "      <th>location_cluster</th>\n",
       "      <th></th>\n",
       "      <th></th>\n",
       "      <th></th>\n",
       "      <th></th>\n",
       "      <th></th>\n",
       "      <th></th>\n",
       "      <th></th>\n",
       "      <th></th>\n",
       "    </tr>\n",
       "  </thead>\n",
       "  <tbody>\n",
       "    <tr>\n",
       "      <th>0</th>\n",
       "      <td>278.0</td>\n",
       "      <td>175994.208633</td>\n",
       "      <td>308523.701281</td>\n",
       "      <td>4614.0</td>\n",
       "      <td>57152.0</td>\n",
       "      <td>107343.0</td>\n",
       "      <td>212000.00</td>\n",
       "      <td>2800118.0</td>\n",
       "    </tr>\n",
       "    <tr>\n",
       "      <th>1</th>\n",
       "      <td>27.0</td>\n",
       "      <td>65448.777778</td>\n",
       "      <td>102196.190915</td>\n",
       "      <td>2498.0</td>\n",
       "      <td>17987.5</td>\n",
       "      <td>39500.0</td>\n",
       "      <td>46865.00</td>\n",
       "      <td>345000.0</td>\n",
       "    </tr>\n",
       "    <tr>\n",
       "      <th>2</th>\n",
       "      <td>548.0</td>\n",
       "      <td>488796.447080</td>\n",
       "      <td>493019.361507</td>\n",
       "      <td>5504.0</td>\n",
       "      <td>133700.0</td>\n",
       "      <td>293878.0</td>\n",
       "      <td>765911.00</td>\n",
       "      <td>3143291.0</td>\n",
       "    </tr>\n",
       "    <tr>\n",
       "      <th>3</th>\n",
       "      <td>124.0</td>\n",
       "      <td>806328.782258</td>\n",
       "      <td>588863.910494</td>\n",
       "      <td>10836.0</td>\n",
       "      <td>417068.0</td>\n",
       "      <td>647924.0</td>\n",
       "      <td>984000.00</td>\n",
       "      <td>3600000.0</td>\n",
       "    </tr>\n",
       "    <tr>\n",
       "      <th>4</th>\n",
       "      <td>38.0</td>\n",
       "      <td>91648.578947</td>\n",
       "      <td>136895.518663</td>\n",
       "      <td>3200.0</td>\n",
       "      <td>10500.0</td>\n",
       "      <td>26000.0</td>\n",
       "      <td>80508.25</td>\n",
       "      <td>520000.0</td>\n",
       "    </tr>\n",
       "    <tr>\n",
       "      <th>5</th>\n",
       "      <td>214.0</td>\n",
       "      <td>349992.070093</td>\n",
       "      <td>308085.212432</td>\n",
       "      <td>1333.0</td>\n",
       "      <td>102150.0</td>\n",
       "      <td>231323.5</td>\n",
       "      <td>564196.00</td>\n",
       "      <td>1176011.0</td>\n",
       "    </tr>\n",
       "    <tr>\n",
       "      <th>6</th>\n",
       "      <td>140.0</td>\n",
       "      <td>142487.914286</td>\n",
       "      <td>215734.956242</td>\n",
       "      <td>3875.0</td>\n",
       "      <td>19771.5</td>\n",
       "      <td>41361.0</td>\n",
       "      <td>187001.25</td>\n",
       "      <td>1163051.0</td>\n",
       "    </tr>\n",
       "  </tbody>\n",
       "</table>\n",
       "</div>"
      ],
      "text/plain": [
       "                  count           mean            std      min       25%  \\\n",
       "location_cluster                                                           \n",
       "0                 278.0  175994.208633  308523.701281   4614.0   57152.0   \n",
       "1                  27.0   65448.777778  102196.190915   2498.0   17987.5   \n",
       "2                 548.0  488796.447080  493019.361507   5504.0  133700.0   \n",
       "3                 124.0  806328.782258  588863.910494  10836.0  417068.0   \n",
       "4                  38.0   91648.578947  136895.518663   3200.0   10500.0   \n",
       "5                 214.0  349992.070093  308085.212432   1333.0  102150.0   \n",
       "6                 140.0  142487.914286  215734.956242   3875.0   19771.5   \n",
       "\n",
       "                       50%        75%        max  \n",
       "location_cluster                                  \n",
       "0                 107343.0  212000.00  2800118.0  \n",
       "1                  39500.0   46865.00   345000.0  \n",
       "2                 293878.0  765911.00  3143291.0  \n",
       "3                 647924.0  984000.00  3600000.0  \n",
       "4                  26000.0   80508.25   520000.0  \n",
       "5                 231323.5  564196.00  1176011.0  \n",
       "6                  41361.0  187001.25  1163051.0  "
      ]
     },
     "execution_count": 16,
     "metadata": {},
     "output_type": "execute_result"
    }
   ],
   "source": [
    "ny_office_lease.groupby('location_cluster')['building_sqft'].describe()"
   ]
  },
  {
   "cell_type": "code",
   "execution_count": 17,
   "metadata": {
    "collapsed": true
   },
   "outputs": [],
   "source": [
    "# cluster 2 roughly corresponds to the area around Central Park (the empty space is noticeable), with the largest buildings\n",
    "# next up is cluster 3, which contains the World Trade Center and Wall Street."
   ]
  },
  {
   "cell_type": "code",
   "execution_count": 18,
   "metadata": {
    "collapsed": true
   },
   "outputs": [],
   "source": [
    "# There are some bugs with gmplot: the proper colors only show up when zoomed in."
   ]
  },
  {
   "cell_type": "markdown",
   "metadata": {},
   "source": [
    "### Rates\n",
    "\n",
    "Clear up the undisclosed rates to make them empty strings, and convert the string rates into floats. When there is a price range, always use the lowest (and for consistency do the same when there is an area range for each rental space)."
   ]
  },
  {
   "cell_type": "code",
   "execution_count": 19,
   "metadata": {
    "collapsed": true
   },
   "outputs": [],
   "source": [
    "ny_office_lease['rate'] = ny_office_lease['rate'].replace('Not Disclosed','')"
   ]
  },
  {
   "cell_type": "code",
   "execution_count": 20,
   "metadata": {
    "collapsed": true
   },
   "outputs": [],
   "source": [
    "# Get the highest rate from the range of rates if it exists, otherwise keep it at ''\n",
    "def get_float_rate (string_rate):\n",
    "    if string_rate != '':\n",
    "        float_rate = float(string_rate.strip().split()[0].replace('$',''))\n",
    "    else:\n",
    "        float_rate = ''\n",
    "    return float_rate"
   ]
  },
  {
   "cell_type": "code",
   "execution_count": 21,
   "metadata": {
    "collapsed": true
   },
   "outputs": [],
   "source": [
    "ny_office_lease['rate'] = ny_office_lease['rate'].apply(lambda r: get_float_rate(r))"
   ]
  },
  {
   "cell_type": "code",
   "execution_count": 22,
   "metadata": {
    "collapsed": true
   },
   "outputs": [],
   "source": [
    "# Now convert the empty cells to null to make the rate column consistently float64\n",
    "ny_office_lease['rate'] = ny_office_lease['rate'].replace('',pd.NaT)"
   ]
  },
  {
   "cell_type": "code",
   "execution_count": 23,
   "metadata": {
    "collapsed": true
   },
   "outputs": [],
   "source": [
    "ny_office_lease['rate']=pd.to_numeric(ny_office_lease['rate'], errors='coerce')"
   ]
  },
  {
   "cell_type": "code",
   "execution_count": 24,
   "metadata": {},
   "outputs": [
    {
     "data": {
      "text/plain": [
       "Text(0.5,1,'Average rates by cluster, and descriptive')"
      ]
     },
     "execution_count": 24,
     "metadata": {},
     "output_type": "execute_result"
    },
    {
     "data": {
      "image/png": "[encoded data removed]",
      "text/plain": [
       "<matplotlib.figure.Figure at 0x169be52e898>"
      ]
     },
     "metadata": {},
     "output_type": "display_data"
    }
   ],
   "source": [
    "fig,ax=plt.subplots(ncols=1, figsize=(8,8))\n",
    "sns.boxplot(x='location_cluster',y='rate',data=ny_office_lease)\n",
    "plt.title('Average rates by cluster, and descriptive')"
   ]
  },
  {
   "cell_type": "markdown",
   "metadata": {},
   "source": [
    "With the rate column appropriately convert to float, we can get an idea of the prices in each region.\n",
    "\n",
    "It seems like there are enough differences in the prices to warrant having these classes."
   ]
  },
  {
   "cell_type": "markdown",
   "metadata": {},
   "source": [
    "### Building Class\n",
    "\n",
    "BOMA defines building classes as follows:\n",
    "\n",
    ">Class A<br>\n",
    ">Most prestigious buildings competing for premier office users with rents above average for the area. Buildings have high quality standard finishes, state of the art systems, exceptional accessibility and a definite market presence.\n",
    "\n",
    ">Class B<br>\n",
    ">Buildings competing for a wide range of users with rents in the average range for the area. Building finishes are fair to good >for the area. Building finishes are fair to good for the area and systems are adequate, but the building does not compete with >Class A at the same price.\n",
    "\n",
    ">Class C<br>\n",
    ">Buildings competing for tenants requiring functional space at rents below the average for the area."
   ]
  },
  {
   "cell_type": "code",
   "execution_count": 25,
   "metadata": {},
   "outputs": [
    {
     "data": {
      "text/html": [
       "<div>\n",
       "<style scoped>\n",
       "    .dataframe tbody tr th:only-of-type {\n",
       "        vertical-align: middle;\n",
       "    }\n",
       "\n",
       "    .dataframe tbody tr th {\n",
       "        vertical-align: top;\n",
       "    }\n",
       "\n",
       "    .dataframe thead th {\n",
       "        text-align: right;\n",
       "    }\n",
       "</style>\n",
       "<table border=\"1\" class=\"dataframe\">\n",
       "  <thead>\n",
       "    <tr style=\"text-align: right;\">\n",
       "      <th></th>\n",
       "      <th>count</th>\n",
       "      <th>unique</th>\n",
       "      <th>top</th>\n",
       "      <th>freq</th>\n",
       "    </tr>\n",
       "    <tr>\n",
       "      <th>location_cluster</th>\n",
       "      <th></th>\n",
       "      <th></th>\n",
       "      <th></th>\n",
       "      <th></th>\n",
       "    </tr>\n",
       "  </thead>\n",
       "  <tbody>\n",
       "    <tr>\n",
       "      <th>0</th>\n",
       "      <td>250</td>\n",
       "      <td>3</td>\n",
       "      <td>B</td>\n",
       "      <td>144</td>\n",
       "    </tr>\n",
       "    <tr>\n",
       "      <th>1</th>\n",
       "      <td>14</td>\n",
       "      <td>2</td>\n",
       "      <td>B</td>\n",
       "      <td>8</td>\n",
       "    </tr>\n",
       "    <tr>\n",
       "      <th>2</th>\n",
       "      <td>531</td>\n",
       "      <td>3</td>\n",
       "      <td>A</td>\n",
       "      <td>270</td>\n",
       "    </tr>\n",
       "    <tr>\n",
       "      <th>3</th>\n",
       "      <td>122</td>\n",
       "      <td>3</td>\n",
       "      <td>A</td>\n",
       "      <td>75</td>\n",
       "    </tr>\n",
       "    <tr>\n",
       "      <th>4</th>\n",
       "      <td>13</td>\n",
       "      <td>2</td>\n",
       "      <td>C</td>\n",
       "      <td>12</td>\n",
       "    </tr>\n",
       "    <tr>\n",
       "      <th>5</th>\n",
       "      <td>180</td>\n",
       "      <td>3</td>\n",
       "      <td>A</td>\n",
       "      <td>138</td>\n",
       "    </tr>\n",
       "    <tr>\n",
       "      <th>6</th>\n",
       "      <td>101</td>\n",
       "      <td>3</td>\n",
       "      <td>B</td>\n",
       "      <td>59</td>\n",
       "    </tr>\n",
       "  </tbody>\n",
       "</table>\n",
       "</div>"
      ],
      "text/plain": [
       "                 count unique top freq\n",
       "location_cluster                      \n",
       "0                  250      3   B  144\n",
       "1                   14      2   B    8\n",
       "2                  531      3   A  270\n",
       "3                  122      3   A   75\n",
       "4                   13      2   C   12\n",
       "5                  180      3   A  138\n",
       "6                  101      3   B   59"
      ]
     },
     "execution_count": 25,
     "metadata": {},
     "output_type": "execute_result"
    }
   ],
   "source": [
    "ny_office_lease.groupby('location_cluster')['building_class'].describe()"
   ]
  },
  {
   "cell_type": "markdown",
   "metadata": {},
   "source": [
    "There are also many buildings with no classification, but it can be see that the unclassified buildings are not pure office properties, and so assigning them our own classification 'D' might actually serve some purpose."
   ]
  },
  {
   "cell_type": "code",
   "execution_count": 26,
   "metadata": {
    "collapsed": true
   },
   "outputs": [],
   "source": [
    "ny_office_lease.loc[ny_office_lease['building_class'].isnull(),'building_class'] = 'D'"
   ]
  },
  {
   "cell_type": "markdown",
   "metadata": {},
   "source": [
    "We can see that on average, classes A, B and C are appropriately priced based on their rated quality, but there are huge major outliers for classes B and C."
   ]
  },
  {
   "cell_type": "code",
   "execution_count": 27,
   "metadata": {},
   "outputs": [
    {
     "data": {
      "text/plain": [
       "Text(0.5,1,'All rates by building class')"
      ]
     },
     "execution_count": 27,
     "metadata": {},
     "output_type": "execute_result"
    },
    {
     "data": {
      "image/png": "[encoded data removed]",
      "text/plain": [
       "<matplotlib.figure.Figure at 0x169c124eef0>"
      ]
     },
     "metadata": {},
     "output_type": "display_data"
    }
   ],
   "source": [
    "fig,ax=plt.subplots(ncols=2, figsize=(12,8))\n",
    "plt.subplot(1,2,1)\n",
    "sns.boxplot(x='building_class',y='rate',data=ny_office_lease)\n",
    "plt.title('Average rates by building class, and descriptive')\n",
    "plt.subplot(1,2,2)\n",
    "sns.swarmplot(x='building_class',y='rate',data=ny_office_lease)\n",
    "plt.title('All rates by building class')"
   ]
  },
  {
   "cell_type": "markdown",
   "metadata": {},
   "source": [
    "### Walk and Transit Scores\n",
    "\n",
    "Walk and transit scores are composites of features such as distance from public transportation, number of intersections, and traffic on a scale from 0 (worst) to 100 (best)."
   ]
  },
  {
   "cell_type": "markdown",
   "metadata": {},
   "source": [
    "Conventiently, there are no buildings with one but not the other. They are also all in building_class D, so they are not pure office buildings. The scores actually seem to be available from walkscores.com, so we can input them manually."
   ]
  },
  {
   "cell_type": "code",
   "execution_count": 28,
   "metadata": {
    "collapsed": true
   },
   "outputs": [],
   "source": [
    "ny_office_lease.loc[671,'walk_score'] = 97\n",
    "ny_office_lease.loc[671,'transit_score'] = 100\n",
    "\n",
    "ny_office_lease.loc[678,'walk_score'] = 99\n",
    "ny_office_lease.loc[678,'transit_score'] = 100\n",
    "ny_office_lease.loc[679,'walk_score'] = 99\n",
    "ny_office_lease.loc[679,'transit_score'] = 100\n",
    "ny_office_lease.loc[680,'walk_score'] = 99\n",
    "ny_office_lease.loc[680,'transit_score'] = 100\n",
    "\n",
    "ny_office_lease.loc[973,'walk_score'] = 98\n",
    "ny_office_lease.loc[973,'transit_score'] = 100\n",
    "\n",
    "ny_office_lease.loc[1043,'walk_score'] = 99\n",
    "ny_office_lease.loc[1043,'transit_score'] = 100\n",
    "ny_office_lease.loc[1044,'walk_score'] = 99\n",
    "ny_office_lease.loc[1044,'transit_score'] = 100\n",
    "ny_office_lease.loc[1045,'walk_score'] = 99\n",
    "ny_office_lease.loc[1045,'transit_score'] = 100\n",
    "ny_office_lease.loc[1046,'walk_score'] = 99\n",
    "ny_office_lease.loc[1046,'transit_score'] = 100\n",
    "\n",
    "ny_office_lease.loc[1320,'walk_score'] = 46\n",
    "ny_office_lease.loc[1320,'transit_score'] = 0"
   ]
  },
  {
   "cell_type": "code",
   "execution_count": 29,
   "metadata": {},
   "outputs": [
    {
     "data": {
      "text/html": [
       "<div>\n",
       "<style scoped>\n",
       "    .dataframe tbody tr th:only-of-type {\n",
       "        vertical-align: middle;\n",
       "    }\n",
       "\n",
       "    .dataframe tbody tr th {\n",
       "        vertical-align: top;\n",
       "    }\n",
       "\n",
       "    .dataframe thead th {\n",
       "        text-align: right;\n",
       "    }\n",
       "</style>\n",
       "<table border=\"1\" class=\"dataframe\">\n",
       "  <thead>\n",
       "    <tr style=\"text-align: right;\">\n",
       "      <th></th>\n",
       "      <th>count</th>\n",
       "      <th>mean</th>\n",
       "      <th>std</th>\n",
       "      <th>min</th>\n",
       "      <th>25%</th>\n",
       "      <th>50%</th>\n",
       "      <th>75%</th>\n",
       "      <th>max</th>\n",
       "    </tr>\n",
       "    <tr>\n",
       "      <th>location_cluster</th>\n",
       "      <th></th>\n",
       "      <th></th>\n",
       "      <th></th>\n",
       "      <th></th>\n",
       "      <th></th>\n",
       "      <th></th>\n",
       "      <th></th>\n",
       "      <th></th>\n",
       "    </tr>\n",
       "  </thead>\n",
       "  <tbody>\n",
       "    <tr>\n",
       "      <th>0</th>\n",
       "      <td>278.0</td>\n",
       "      <td>98.967626</td>\n",
       "      <td>3.487320</td>\n",
       "      <td>46.0</td>\n",
       "      <td>99.0</td>\n",
       "      <td>100.0</td>\n",
       "      <td>100.0</td>\n",
       "      <td>100.0</td>\n",
       "    </tr>\n",
       "    <tr>\n",
       "      <th>1</th>\n",
       "      <td>27.0</td>\n",
       "      <td>97.074074</td>\n",
       "      <td>2.368478</td>\n",
       "      <td>92.0</td>\n",
       "      <td>96.0</td>\n",
       "      <td>98.0</td>\n",
       "      <td>99.0</td>\n",
       "      <td>100.0</td>\n",
       "    </tr>\n",
       "    <tr>\n",
       "      <th>2</th>\n",
       "      <td>548.0</td>\n",
       "      <td>99.476277</td>\n",
       "      <td>0.973780</td>\n",
       "      <td>88.0</td>\n",
       "      <td>99.0</td>\n",
       "      <td>100.0</td>\n",
       "      <td>100.0</td>\n",
       "      <td>100.0</td>\n",
       "    </tr>\n",
       "    <tr>\n",
       "      <th>3</th>\n",
       "      <td>124.0</td>\n",
       "      <td>99.798387</td>\n",
       "      <td>0.569978</td>\n",
       "      <td>97.0</td>\n",
       "      <td>100.0</td>\n",
       "      <td>100.0</td>\n",
       "      <td>100.0</td>\n",
       "      <td>100.0</td>\n",
       "    </tr>\n",
       "    <tr>\n",
       "      <th>4</th>\n",
       "      <td>38.0</td>\n",
       "      <td>97.315789</td>\n",
       "      <td>2.302822</td>\n",
       "      <td>92.0</td>\n",
       "      <td>97.0</td>\n",
       "      <td>98.0</td>\n",
       "      <td>99.0</td>\n",
       "      <td>100.0</td>\n",
       "    </tr>\n",
       "    <tr>\n",
       "      <th>5</th>\n",
       "      <td>214.0</td>\n",
       "      <td>99.799065</td>\n",
       "      <td>0.614228</td>\n",
       "      <td>95.0</td>\n",
       "      <td>100.0</td>\n",
       "      <td>100.0</td>\n",
       "      <td>100.0</td>\n",
       "      <td>100.0</td>\n",
       "    </tr>\n",
       "    <tr>\n",
       "      <th>6</th>\n",
       "      <td>140.0</td>\n",
       "      <td>99.835714</td>\n",
       "      <td>0.408731</td>\n",
       "      <td>98.0</td>\n",
       "      <td>100.0</td>\n",
       "      <td>100.0</td>\n",
       "      <td>100.0</td>\n",
       "      <td>100.0</td>\n",
       "    </tr>\n",
       "  </tbody>\n",
       "</table>\n",
       "</div>"
      ],
      "text/plain": [
       "                  count       mean       std   min    25%    50%    75%    max\n",
       "location_cluster                                                              \n",
       "0                 278.0  98.967626  3.487320  46.0   99.0  100.0  100.0  100.0\n",
       "1                  27.0  97.074074  2.368478  92.0   96.0   98.0   99.0  100.0\n",
       "2                 548.0  99.476277  0.973780  88.0   99.0  100.0  100.0  100.0\n",
       "3                 124.0  99.798387  0.569978  97.0  100.0  100.0  100.0  100.0\n",
       "4                  38.0  97.315789  2.302822  92.0   97.0   98.0   99.0  100.0\n",
       "5                 214.0  99.799065  0.614228  95.0  100.0  100.0  100.0  100.0\n",
       "6                 140.0  99.835714  0.408731  98.0  100.0  100.0  100.0  100.0"
      ]
     },
     "execution_count": 29,
     "metadata": {},
     "output_type": "execute_result"
    }
   ],
   "source": [
    "ny_office_lease.groupby('location_cluster')['walk_score'].describe()"
   ]
  },
  {
   "cell_type": "code",
   "execution_count": 30,
   "metadata": {},
   "outputs": [
    {
     "data": {
      "text/html": [
       "<div>\n",
       "<style scoped>\n",
       "    .dataframe tbody tr th:only-of-type {\n",
       "        vertical-align: middle;\n",
       "    }\n",
       "\n",
       "    .dataframe tbody tr th {\n",
       "        vertical-align: top;\n",
       "    }\n",
       "\n",
       "    .dataframe thead th {\n",
       "        text-align: right;\n",
       "    }\n",
       "</style>\n",
       "<table border=\"1\" class=\"dataframe\">\n",
       "  <thead>\n",
       "    <tr style=\"text-align: right;\">\n",
       "      <th></th>\n",
       "      <th>count</th>\n",
       "      <th>mean</th>\n",
       "      <th>std</th>\n",
       "      <th>min</th>\n",
       "      <th>25%</th>\n",
       "      <th>50%</th>\n",
       "      <th>75%</th>\n",
       "      <th>max</th>\n",
       "    </tr>\n",
       "    <tr>\n",
       "      <th>location_cluster</th>\n",
       "      <th></th>\n",
       "      <th></th>\n",
       "      <th></th>\n",
       "      <th></th>\n",
       "      <th></th>\n",
       "      <th></th>\n",
       "      <th></th>\n",
       "      <th></th>\n",
       "    </tr>\n",
       "  </thead>\n",
       "  <tbody>\n",
       "    <tr>\n",
       "      <th>0</th>\n",
       "      <td>278.0</td>\n",
       "      <td>99.640288</td>\n",
       "      <td>5.997601</td>\n",
       "      <td>0.0</td>\n",
       "      <td>100.0</td>\n",
       "      <td>100.0</td>\n",
       "      <td>100.0</td>\n",
       "      <td>100.0</td>\n",
       "    </tr>\n",
       "    <tr>\n",
       "      <th>1</th>\n",
       "      <td>27.0</td>\n",
       "      <td>96.777778</td>\n",
       "      <td>3.522819</td>\n",
       "      <td>90.0</td>\n",
       "      <td>92.5</td>\n",
       "      <td>99.0</td>\n",
       "      <td>99.0</td>\n",
       "      <td>99.0</td>\n",
       "    </tr>\n",
       "    <tr>\n",
       "      <th>2</th>\n",
       "      <td>548.0</td>\n",
       "      <td>99.983577</td>\n",
       "      <td>0.310841</td>\n",
       "      <td>93.0</td>\n",
       "      <td>100.0</td>\n",
       "      <td>100.0</td>\n",
       "      <td>100.0</td>\n",
       "      <td>100.0</td>\n",
       "    </tr>\n",
       "    <tr>\n",
       "      <th>3</th>\n",
       "      <td>124.0</td>\n",
       "      <td>100.000000</td>\n",
       "      <td>0.000000</td>\n",
       "      <td>100.0</td>\n",
       "      <td>100.0</td>\n",
       "      <td>100.0</td>\n",
       "      <td>100.0</td>\n",
       "      <td>100.0</td>\n",
       "    </tr>\n",
       "    <tr>\n",
       "      <th>4</th>\n",
       "      <td>38.0</td>\n",
       "      <td>99.763158</td>\n",
       "      <td>0.998220</td>\n",
       "      <td>94.0</td>\n",
       "      <td>100.0</td>\n",
       "      <td>100.0</td>\n",
       "      <td>100.0</td>\n",
       "      <td>100.0</td>\n",
       "    </tr>\n",
       "    <tr>\n",
       "      <th>5</th>\n",
       "      <td>214.0</td>\n",
       "      <td>99.943925</td>\n",
       "      <td>0.330933</td>\n",
       "      <td>98.0</td>\n",
       "      <td>100.0</td>\n",
       "      <td>100.0</td>\n",
       "      <td>100.0</td>\n",
       "      <td>100.0</td>\n",
       "    </tr>\n",
       "    <tr>\n",
       "      <th>6</th>\n",
       "      <td>140.0</td>\n",
       "      <td>100.000000</td>\n",
       "      <td>0.000000</td>\n",
       "      <td>100.0</td>\n",
       "      <td>100.0</td>\n",
       "      <td>100.0</td>\n",
       "      <td>100.0</td>\n",
       "      <td>100.0</td>\n",
       "    </tr>\n",
       "  </tbody>\n",
       "</table>\n",
       "</div>"
      ],
      "text/plain": [
       "                  count        mean       std    min    25%    50%    75%  \\\n",
       "location_cluster                                                            \n",
       "0                 278.0   99.640288  5.997601    0.0  100.0  100.0  100.0   \n",
       "1                  27.0   96.777778  3.522819   90.0   92.5   99.0   99.0   \n",
       "2                 548.0   99.983577  0.310841   93.0  100.0  100.0  100.0   \n",
       "3                 124.0  100.000000  0.000000  100.0  100.0  100.0  100.0   \n",
       "4                  38.0   99.763158  0.998220   94.0  100.0  100.0  100.0   \n",
       "5                 214.0   99.943925  0.330933   98.0  100.0  100.0  100.0   \n",
       "6                 140.0  100.000000  0.000000  100.0  100.0  100.0  100.0   \n",
       "\n",
       "                    max  \n",
       "location_cluster         \n",
       "0                 100.0  \n",
       "1                  99.0  \n",
       "2                 100.0  \n",
       "3                 100.0  \n",
       "4                 100.0  \n",
       "5                 100.0  \n",
       "6                 100.0  "
      ]
     },
     "execution_count": 30,
     "metadata": {},
     "output_type": "execute_result"
    }
   ],
   "source": [
    "ny_office_lease.groupby('location_cluster')['transit_score'].describe()"
   ]
  },
  {
   "cell_type": "markdown",
   "metadata": {},
   "source": [
    "In general these scores in Manhattan are extremely high."
   ]
  },
  {
   "cell_type": "markdown",
   "metadata": {},
   "source": [
    "### Building Size\n",
    "\n",
    "The data does not contain the number of floors for each building, but in this region there should be a high correlation between total floor area and height. There is in nothing in Manhattan like the Pentagon, which has over 6.6 million square feet of floor space and only 7 above-ground floors.\n",
    "\n",
    "We can immediately see a correlation between average size and building class for classes A, B and C.\n",
    "\n",
    "If this is included as a feature for prices, we can either use arbitrary size classes, or use a combination of measuring by 1000 square feet and normalization."
   ]
  },
  {
   "cell_type": "code",
   "execution_count": 31,
   "metadata": {},
   "outputs": [
    {
     "data": {
      "text/html": [
       "<div>\n",
       "<style scoped>\n",
       "    .dataframe tbody tr th:only-of-type {\n",
       "        vertical-align: middle;\n",
       "    }\n",
       "\n",
       "    .dataframe tbody tr th {\n",
       "        vertical-align: top;\n",
       "    }\n",
       "\n",
       "    .dataframe thead th {\n",
       "        text-align: right;\n",
       "    }\n",
       "</style>\n",
       "<table border=\"1\" class=\"dataframe\">\n",
       "  <thead>\n",
       "    <tr style=\"text-align: right;\">\n",
       "      <th></th>\n",
       "      <th>count</th>\n",
       "      <th>mean</th>\n",
       "      <th>std</th>\n",
       "      <th>min</th>\n",
       "      <th>25%</th>\n",
       "      <th>50%</th>\n",
       "      <th>75%</th>\n",
       "      <th>max</th>\n",
       "    </tr>\n",
       "    <tr>\n",
       "      <th>building_class</th>\n",
       "      <th></th>\n",
       "      <th></th>\n",
       "      <th></th>\n",
       "      <th></th>\n",
       "      <th></th>\n",
       "      <th></th>\n",
       "      <th></th>\n",
       "      <th></th>\n",
       "    </tr>\n",
       "  </thead>\n",
       "  <tbody>\n",
       "    <tr>\n",
       "      <th>A</th>\n",
       "      <td>93.0</td>\n",
       "      <td>83.246129</td>\n",
       "      <td>57.135397</td>\n",
       "      <td>40.00</td>\n",
       "      <td>54.00</td>\n",
       "      <td>62.00</td>\n",
       "      <td>86.0</td>\n",
       "      <td>330.61</td>\n",
       "    </tr>\n",
       "    <tr>\n",
       "      <th>B</th>\n",
       "      <td>229.0</td>\n",
       "      <td>72.030131</td>\n",
       "      <td>65.104618</td>\n",
       "      <td>6.00</td>\n",
       "      <td>50.00</td>\n",
       "      <td>60.00</td>\n",
       "      <td>70.0</td>\n",
       "      <td>720.00</td>\n",
       "    </tr>\n",
       "    <tr>\n",
       "      <th>C</th>\n",
       "      <td>139.0</td>\n",
       "      <td>54.680647</td>\n",
       "      <td>47.420259</td>\n",
       "      <td>21.33</td>\n",
       "      <td>44.00</td>\n",
       "      <td>49.00</td>\n",
       "      <td>58.0</td>\n",
       "      <td>584.28</td>\n",
       "    </tr>\n",
       "    <tr>\n",
       "      <th>D</th>\n",
       "      <td>78.0</td>\n",
       "      <td>69.633333</td>\n",
       "      <td>38.699070</td>\n",
       "      <td>11.96</td>\n",
       "      <td>44.55</td>\n",
       "      <td>59.03</td>\n",
       "      <td>78.0</td>\n",
       "      <td>240.00</td>\n",
       "    </tr>\n",
       "  </tbody>\n",
       "</table>\n",
       "</div>"
      ],
      "text/plain": [
       "                count       mean        std    min    25%    50%   75%     max\n",
       "building_class                                                                \n",
       "A                93.0  83.246129  57.135397  40.00  54.00  62.00  86.0  330.61\n",
       "B               229.0  72.030131  65.104618   6.00  50.00  60.00  70.0  720.00\n",
       "C               139.0  54.680647  47.420259  21.33  44.00  49.00  58.0  584.28\n",
       "D                78.0  69.633333  38.699070  11.96  44.55  59.03  78.0  240.00"
      ]
     },
     "execution_count": 31,
     "metadata": {},
     "output_type": "execute_result"
    }
   ],
   "source": [
    "ny_office_lease.groupby('building_class')['rate'].describe()"
   ]
  },
  {
   "cell_type": "markdown",
   "metadata": {},
   "source": [
    "We should log linearize building size, since this effectively removes outliers and smooths the data."
   ]
  },
  {
   "cell_type": "code",
   "execution_count": 32,
   "metadata": {
    "collapsed": true
   },
   "outputs": [],
   "source": [
    "ny_office_lease['log_building_sqft'] = np.log(ny_office_lease['building_sqft'])"
   ]
  },
  {
   "cell_type": "code",
   "execution_count": 33,
   "metadata": {},
   "outputs": [
    {
     "data": {
      "text/html": [
       "<div>\n",
       "<style scoped>\n",
       "    .dataframe tbody tr th:only-of-type {\n",
       "        vertical-align: middle;\n",
       "    }\n",
       "\n",
       "    .dataframe tbody tr th {\n",
       "        vertical-align: top;\n",
       "    }\n",
       "\n",
       "    .dataframe thead th {\n",
       "        text-align: right;\n",
       "    }\n",
       "</style>\n",
       "<table border=\"1\" class=\"dataframe\">\n",
       "  <thead>\n",
       "    <tr style=\"text-align: right;\">\n",
       "      <th></th>\n",
       "      <th>count</th>\n",
       "      <th>mean</th>\n",
       "      <th>std</th>\n",
       "      <th>min</th>\n",
       "      <th>25%</th>\n",
       "      <th>50%</th>\n",
       "      <th>75%</th>\n",
       "      <th>max</th>\n",
       "    </tr>\n",
       "    <tr>\n",
       "      <th>building_class</th>\n",
       "      <th></th>\n",
       "      <th></th>\n",
       "      <th></th>\n",
       "      <th></th>\n",
       "      <th></th>\n",
       "      <th></th>\n",
       "      <th></th>\n",
       "      <th></th>\n",
       "    </tr>\n",
       "  </thead>\n",
       "  <tbody>\n",
       "    <tr>\n",
       "      <th>A</th>\n",
       "      <td>528.0</td>\n",
       "      <td>13.312452</td>\n",
       "      <td>0.709457</td>\n",
       "      <td>9.903488</td>\n",
       "      <td>12.886641</td>\n",
       "      <td>13.350614</td>\n",
       "      <td>13.696522</td>\n",
       "      <td>15.096444</td>\n",
       "    </tr>\n",
       "    <tr>\n",
       "      <th>B</th>\n",
       "      <td>490.0</td>\n",
       "      <td>11.748973</td>\n",
       "      <td>0.972249</td>\n",
       "      <td>8.579604</td>\n",
       "      <td>11.230775</td>\n",
       "      <td>11.859030</td>\n",
       "      <td>12.495004</td>\n",
       "      <td>13.966557</td>\n",
       "    </tr>\n",
       "    <tr>\n",
       "      <th>C</th>\n",
       "      <td>193.0</td>\n",
       "      <td>10.782073</td>\n",
       "      <td>1.058689</td>\n",
       "      <td>7.823246</td>\n",
       "      <td>9.865266</td>\n",
       "      <td>11.068153</td>\n",
       "      <td>11.617285</td>\n",
       "      <td>12.873715</td>\n",
       "    </tr>\n",
       "    <tr>\n",
       "      <th>D</th>\n",
       "      <td>158.0</td>\n",
       "      <td>10.332363</td>\n",
       "      <td>1.238189</td>\n",
       "      <td>7.195187</td>\n",
       "      <td>9.423839</td>\n",
       "      <td>10.277442</td>\n",
       "      <td>10.995277</td>\n",
       "      <td>13.243157</td>\n",
       "    </tr>\n",
       "  </tbody>\n",
       "</table>\n",
       "</div>"
      ],
      "text/plain": [
       "                count       mean       std       min        25%        50%  \\\n",
       "building_class                                                               \n",
       "A               528.0  13.312452  0.709457  9.903488  12.886641  13.350614   \n",
       "B               490.0  11.748973  0.972249  8.579604  11.230775  11.859030   \n",
       "C               193.0  10.782073  1.058689  7.823246   9.865266  11.068153   \n",
       "D               158.0  10.332363  1.238189  7.195187   9.423839  10.277442   \n",
       "\n",
       "                      75%        max  \n",
       "building_class                        \n",
       "A               13.696522  15.096444  \n",
       "B               12.495004  13.966557  \n",
       "C               11.617285  12.873715  \n",
       "D               10.995277  13.243157  "
      ]
     },
     "execution_count": 33,
     "metadata": {},
     "output_type": "execute_result"
    }
   ],
   "source": [
    "ny_office_lease.groupby('building_class')['log_building_sqft'].describe()"
   ]
  },
  {
   "cell_type": "code",
   "execution_count": 34,
   "metadata": {},
   "outputs": [
    {
     "data": {
      "text/plain": [
       "<matplotlib.axes._subplots.AxesSubplot at 0x169c1400668>"
      ]
     },
     "execution_count": 34,
     "metadata": {},
     "output_type": "execute_result"
    },
    {
     "data": {
      "image/png": "[encoded data removed]",
      "text/plain": [
       "<matplotlib.figure.Figure at 0x169c13c1978>"
      ]
     },
     "metadata": {},
     "output_type": "display_data"
    }
   ],
   "source": [
    "ny_office_lease['log_building_sqft'].hist(bins=100)"
   ]
  },
  {
   "cell_type": "code",
   "execution_count": 35,
   "metadata": {},
   "outputs": [
    {
     "data": {
      "text/plain": [
       "Text(0.5,1,'Log building size by cluster and building class')"
      ]
     },
     "execution_count": 35,
     "metadata": {},
     "output_type": "execute_result"
    },
    {
     "data": {
      "image/png": "[encoded data removed]",
      "text/plain": [
       "<matplotlib.figure.Figure at 0x169c148eba8>"
      ]
     },
     "metadata": {},
     "output_type": "display_data"
    }
   ],
   "source": [
    "fig,ax=plt.subplots(ncols=2,figsize=(12,8))\n",
    "plt.subplot(1,2,1)\n",
    "sns.boxplot(x='location_cluster',y='log_building_sqft',data=ny_office_lease)\n",
    "plt.title('Log building size by cluster')\n",
    "plt.subplot(1,2,2)\n",
    "sns.boxplot(x='building_class',y='log_building_sqft',data=ny_office_lease)\n",
    "plt.title('Log building size by cluster and building class')"
   ]
  },
  {
   "cell_type": "markdown",
   "metadata": {},
   "source": [
    "The largest building, 55 Water St, was the largest office building in the world when it was completed in 1972. The smallest, at 1005 Second Ave, is a narrow 4-storey storefront with an Italian restaurant on the ground floor, a second floor spa, and an apartment occupying the top 2 floors."
   ]
  },
  {
   "cell_type": "markdown",
   "metadata": {},
   "source": [
    "### Rental Unit Area\n",
    "\n",
    "Like with rental rates, I'm simply going to use the highest unit area when there is a range. Almost all of them have an undisclosed price, so we're estimating anyway."
   ]
  },
  {
   "cell_type": "code",
   "execution_count": 36,
   "metadata": {
    "collapsed": true
   },
   "outputs": [],
   "source": [
    "ny_office_lease['space_sqft'] = ny_office_lease['space_sqft'].apply(lambda a:int(a.strip().split()[0].replace(',','')))"
   ]
  },
  {
   "cell_type": "code",
   "execution_count": 37,
   "metadata": {},
   "outputs": [
    {
     "data": {
      "text/html": [
       "<div>\n",
       "<style scoped>\n",
       "    .dataframe tbody tr th:only-of-type {\n",
       "        vertical-align: middle;\n",
       "    }\n",
       "\n",
       "    .dataframe tbody tr th {\n",
       "        vertical-align: top;\n",
       "    }\n",
       "\n",
       "    .dataframe thead th {\n",
       "        text-align: right;\n",
       "    }\n",
       "</style>\n",
       "<table border=\"1\" class=\"dataframe\">\n",
       "  <thead>\n",
       "    <tr style=\"text-align: right;\">\n",
       "      <th></th>\n",
       "      <th>count</th>\n",
       "      <th>mean</th>\n",
       "      <th>std</th>\n",
       "      <th>min</th>\n",
       "      <th>25%</th>\n",
       "      <th>50%</th>\n",
       "      <th>75%</th>\n",
       "      <th>max</th>\n",
       "    </tr>\n",
       "    <tr>\n",
       "      <th>building_class</th>\n",
       "      <th></th>\n",
       "      <th></th>\n",
       "      <th></th>\n",
       "      <th></th>\n",
       "      <th></th>\n",
       "      <th></th>\n",
       "      <th></th>\n",
       "      <th></th>\n",
       "    </tr>\n",
       "  </thead>\n",
       "  <tbody>\n",
       "    <tr>\n",
       "      <th>A</th>\n",
       "      <td>528.0</td>\n",
       "      <td>10821.517045</td>\n",
       "      <td>15985.617475</td>\n",
       "      <td>40.0</td>\n",
       "      <td>1853.75</td>\n",
       "      <td>5879.0</td>\n",
       "      <td>16445.25</td>\n",
       "      <td>260000.0</td>\n",
       "    </tr>\n",
       "    <tr>\n",
       "      <th>B</th>\n",
       "      <td>490.0</td>\n",
       "      <td>3894.195918</td>\n",
       "      <td>4723.911066</td>\n",
       "      <td>40.0</td>\n",
       "      <td>909.50</td>\n",
       "      <td>2332.0</td>\n",
       "      <td>5082.75</td>\n",
       "      <td>30216.0</td>\n",
       "    </tr>\n",
       "    <tr>\n",
       "      <th>C</th>\n",
       "      <td>193.0</td>\n",
       "      <td>2854.839378</td>\n",
       "      <td>2682.508900</td>\n",
       "      <td>70.0</td>\n",
       "      <td>1000.00</td>\n",
       "      <td>2200.0</td>\n",
       "      <td>3750.00</td>\n",
       "      <td>16909.0</td>\n",
       "    </tr>\n",
       "    <tr>\n",
       "      <th>D</th>\n",
       "      <td>158.0</td>\n",
       "      <td>3102.310127</td>\n",
       "      <td>3051.524720</td>\n",
       "      <td>144.0</td>\n",
       "      <td>833.25</td>\n",
       "      <td>1814.0</td>\n",
       "      <td>4300.00</td>\n",
       "      <td>14290.0</td>\n",
       "    </tr>\n",
       "  </tbody>\n",
       "</table>\n",
       "</div>"
      ],
      "text/plain": [
       "                count          mean           std    min      25%     50%  \\\n",
       "building_class                                                              \n",
       "A               528.0  10821.517045  15985.617475   40.0  1853.75  5879.0   \n",
       "B               490.0   3894.195918   4723.911066   40.0   909.50  2332.0   \n",
       "C               193.0   2854.839378   2682.508900   70.0  1000.00  2200.0   \n",
       "D               158.0   3102.310127   3051.524720  144.0   833.25  1814.0   \n",
       "\n",
       "                     75%       max  \n",
       "building_class                      \n",
       "A               16445.25  260000.0  \n",
       "B                5082.75   30216.0  \n",
       "C                3750.00   16909.0  \n",
       "D                4300.00   14290.0  "
      ]
     },
     "execution_count": 37,
     "metadata": {},
     "output_type": "execute_result"
    }
   ],
   "source": [
    "ny_office_lease.groupby('building_class')['space_sqft'].describe()"
   ]
  },
  {
   "cell_type": "code",
   "execution_count": 38,
   "metadata": {},
   "outputs": [
    {
     "data": {
      "text/html": [
       "<div>\n",
       "<style scoped>\n",
       "    .dataframe tbody tr th:only-of-type {\n",
       "        vertical-align: middle;\n",
       "    }\n",
       "\n",
       "    .dataframe tbody tr th {\n",
       "        vertical-align: top;\n",
       "    }\n",
       "\n",
       "    .dataframe thead th {\n",
       "        text-align: right;\n",
       "    }\n",
       "</style>\n",
       "<table border=\"1\" class=\"dataframe\">\n",
       "  <thead>\n",
       "    <tr style=\"text-align: right;\">\n",
       "      <th></th>\n",
       "      <th>count</th>\n",
       "      <th>mean</th>\n",
       "      <th>std</th>\n",
       "      <th>min</th>\n",
       "      <th>25%</th>\n",
       "      <th>50%</th>\n",
       "      <th>75%</th>\n",
       "      <th>max</th>\n",
       "    </tr>\n",
       "    <tr>\n",
       "      <th>location_cluster</th>\n",
       "      <th></th>\n",
       "      <th></th>\n",
       "      <th></th>\n",
       "      <th></th>\n",
       "      <th></th>\n",
       "      <th></th>\n",
       "      <th></th>\n",
       "      <th></th>\n",
       "    </tr>\n",
       "  </thead>\n",
       "  <tbody>\n",
       "    <tr>\n",
       "      <th>0</th>\n",
       "      <td>278.0</td>\n",
       "      <td>3768.176259</td>\n",
       "      <td>4332.201566</td>\n",
       "      <td>50.0</td>\n",
       "      <td>902.25</td>\n",
       "      <td>2400.0</td>\n",
       "      <td>5625.00</td>\n",
       "      <td>26782.0</td>\n",
       "    </tr>\n",
       "    <tr>\n",
       "      <th>1</th>\n",
       "      <td>27.0</td>\n",
       "      <td>4009.111111</td>\n",
       "      <td>2849.915172</td>\n",
       "      <td>195.0</td>\n",
       "      <td>1464.50</td>\n",
       "      <td>5000.0</td>\n",
       "      <td>5202.50</td>\n",
       "      <td>8750.0</td>\n",
       "    </tr>\n",
       "    <tr>\n",
       "      <th>2</th>\n",
       "      <td>548.0</td>\n",
       "      <td>7045.983577</td>\n",
       "      <td>8899.594840</td>\n",
       "      <td>40.0</td>\n",
       "      <td>1156.25</td>\n",
       "      <td>3530.0</td>\n",
       "      <td>8996.25</td>\n",
       "      <td>45245.0</td>\n",
       "    </tr>\n",
       "    <tr>\n",
       "      <th>3</th>\n",
       "      <td>124.0</td>\n",
       "      <td>9966.137097</td>\n",
       "      <td>14165.002047</td>\n",
       "      <td>40.0</td>\n",
       "      <td>575.00</td>\n",
       "      <td>3050.5</td>\n",
       "      <td>11088.75</td>\n",
       "      <td>57399.0</td>\n",
       "    </tr>\n",
       "    <tr>\n",
       "      <th>4</th>\n",
       "      <td>38.0</td>\n",
       "      <td>10474.342105</td>\n",
       "      <td>41694.292211</td>\n",
       "      <td>400.0</td>\n",
       "      <td>1037.50</td>\n",
       "      <td>3625.0</td>\n",
       "      <td>6034.75</td>\n",
       "      <td>260000.0</td>\n",
       "    </tr>\n",
       "    <tr>\n",
       "      <th>5</th>\n",
       "      <td>214.0</td>\n",
       "      <td>4951.551402</td>\n",
       "      <td>6202.572723</td>\n",
       "      <td>100.0</td>\n",
       "      <td>995.50</td>\n",
       "      <td>2534.0</td>\n",
       "      <td>6085.75</td>\n",
       "      <td>29802.0</td>\n",
       "    </tr>\n",
       "    <tr>\n",
       "      <th>6</th>\n",
       "      <td>140.0</td>\n",
       "      <td>6804.357143</td>\n",
       "      <td>10405.705417</td>\n",
       "      <td>100.0</td>\n",
       "      <td>1500.00</td>\n",
       "      <td>2550.0</td>\n",
       "      <td>6425.00</td>\n",
       "      <td>51576.0</td>\n",
       "    </tr>\n",
       "  </tbody>\n",
       "</table>\n",
       "</div>"
      ],
      "text/plain": [
       "                  count          mean           std    min      25%     50%  \\\n",
       "location_cluster                                                              \n",
       "0                 278.0   3768.176259   4332.201566   50.0   902.25  2400.0   \n",
       "1                  27.0   4009.111111   2849.915172  195.0  1464.50  5000.0   \n",
       "2                 548.0   7045.983577   8899.594840   40.0  1156.25  3530.0   \n",
       "3                 124.0   9966.137097  14165.002047   40.0   575.00  3050.5   \n",
       "4                  38.0  10474.342105  41694.292211  400.0  1037.50  3625.0   \n",
       "5                 214.0   4951.551402   6202.572723  100.0   995.50  2534.0   \n",
       "6                 140.0   6804.357143  10405.705417  100.0  1500.00  2550.0   \n",
       "\n",
       "                       75%       max  \n",
       "location_cluster                      \n",
       "0                  5625.00   26782.0  \n",
       "1                  5202.50    8750.0  \n",
       "2                  8996.25   45245.0  \n",
       "3                 11088.75   57399.0  \n",
       "4                  6034.75  260000.0  \n",
       "5                  6085.75   29802.0  \n",
       "6                  6425.00   51576.0  "
      ]
     },
     "execution_count": 38,
     "metadata": {},
     "output_type": "execute_result"
    }
   ],
   "source": [
    "ny_office_lease.groupby('location_cluster')['space_sqft'].describe()"
   ]
  },
  {
   "cell_type": "markdown",
   "metadata": {},
   "source": [
    "The largest rental spaces tend to be entire floors or sections of the building. Regardless of location, class A buildings tend to have the largest rental spaces.\n",
    "\n",
    "Interestingly, some of the smallest offices are also class A. These are often executive offices. It seems like the relationship between unit area and rate is not monotonic."
   ]
  },
  {
   "cell_type": "code",
   "execution_count": 39,
   "metadata": {},
   "outputs": [
    {
     "data": {
      "text/plain": [
       "Text(0.5,1,'Rate by size of unit space')"
      ]
     },
     "execution_count": 39,
     "metadata": {},
     "output_type": "execute_result"
    },
    {
     "data": {
      "image/png": "[encoded data removed]",
      "text/plain": [
       "<matplotlib.figure.Figure at 0x169c1abc048>"
      ]
     },
     "metadata": {},
     "output_type": "display_data"
    }
   ],
   "source": [
    "sns.lmplot(x='space_sqft',y='rate',data=ny_office_lease)\n",
    "plt.title('Rate by size of unit space')"
   ]
  },
  {
   "cell_type": "markdown",
   "metadata": {},
   "source": [
    "Generally (very, very generally), larger units are cheaper per square footage."
   ]
  },
  {
   "cell_type": "markdown",
   "metadata": {},
   "source": [
    "### Space Name/Floor\n",
    "This is usually the floor number, which might be useful information. But we need to extract it from the text, which might be an ordeal since there is a lack of consistency. However, it can be seen that the first word of each string contains the proper information."
   ]
  },
  {
   "cell_type": "code",
   "execution_count": 40,
   "metadata": {
    "collapsed": true
   },
   "outputs": [],
   "source": [
    "ny_office_lease['space_floor']=ny_office_lease['space_name']"
   ]
  },
  {
   "cell_type": "code",
   "execution_count": 41,
   "metadata": {
    "collapsed": true
   },
   "outputs": [],
   "source": [
    "ny_office_lease['space_floor'] = ny_office_lease['space_floor'].apply(lambda w: w.strip().split()[0])"
   ]
  },
  {
   "cell_type": "code",
   "execution_count": 42,
   "metadata": {
    "collapsed": true
   },
   "outputs": [],
   "source": [
    "ny_office_lease.loc[ny_office_lease['space_floor'] == 'Ground','space_floor'] = '1'"
   ]
  },
  {
   "cell_type": "code",
   "execution_count": 43,
   "metadata": {
    "collapsed": true
   },
   "outputs": [],
   "source": [
    "# Change \"Ground\" and \"Lower\" to \"1\"\n",
    "ny_office_lease.loc[ny_office_lease['space_floor'] == 'Lower','space_floor'] = '1'"
   ]
  },
  {
   "cell_type": "code",
   "execution_count": 44,
   "metadata": {
    "collapsed": true
   },
   "outputs": [],
   "source": [
    "# Now get rid of \"th\", \"rd\", \"st\", \"nd\"\n",
    "ny_office_lease['space_floor']=ny_office_lease['space_floor'].apply(lambda w:w.split(\"th\")[0])\n",
    "ny_office_lease['space_floor']=ny_office_lease['space_floor'].apply(lambda w:w.split(\"rd\")[0])\n",
    "ny_office_lease['space_floor']=ny_office_lease['space_floor'].apply(lambda w:w.split(\"nd\")[0])\n",
    "ny_office_lease['space_floor']=ny_office_lease['space_floor'].apply(lambda w:w.split(\"st\")[0])"
   ]
  },
  {
   "cell_type": "code",
   "execution_count": 45,
   "metadata": {},
   "outputs": [
    {
     "data": {
      "text/html": [
       "<div>\n",
       "<style scoped>\n",
       "    .dataframe tbody tr th:only-of-type {\n",
       "        vertical-align: middle;\n",
       "    }\n",
       "\n",
       "    .dataframe tbody tr th {\n",
       "        vertical-align: top;\n",
       "    }\n",
       "\n",
       "    .dataframe thead th {\n",
       "        text-align: right;\n",
       "    }\n",
       "</style>\n",
       "<table border=\"1\" class=\"dataframe\">\n",
       "  <thead>\n",
       "    <tr style=\"text-align: right;\">\n",
       "      <th></th>\n",
       "      <th>count</th>\n",
       "      <th>mean</th>\n",
       "      <th>std</th>\n",
       "      <th>min</th>\n",
       "      <th>25%</th>\n",
       "      <th>50%</th>\n",
       "      <th>75%</th>\n",
       "      <th>max</th>\n",
       "    </tr>\n",
       "    <tr>\n",
       "      <th>space_floor</th>\n",
       "      <th></th>\n",
       "      <th></th>\n",
       "      <th></th>\n",
       "      <th></th>\n",
       "      <th></th>\n",
       "      <th></th>\n",
       "      <th></th>\n",
       "      <th></th>\n",
       "    </tr>\n",
       "  </thead>\n",
       "  <tbody>\n",
       "    <tr>\n",
       "      <th>1</th>\n",
       "      <td>75.0</td>\n",
       "      <td>87.796133</td>\n",
       "      <td>61.637306</td>\n",
       "      <td>11.96</td>\n",
       "      <td>48.50</td>\n",
       "      <td>66.0</td>\n",
       "      <td>100.0</td>\n",
       "      <td>300.0</td>\n",
       "    </tr>\n",
       "    <tr>\n",
       "      <th>10</th>\n",
       "      <td>21.0</td>\n",
       "      <td>56.884286</td>\n",
       "      <td>11.167416</td>\n",
       "      <td>36.00</td>\n",
       "      <td>47.00</td>\n",
       "      <td>59.0</td>\n",
       "      <td>65.0</td>\n",
       "      <td>82.0</td>\n",
       "    </tr>\n",
       "    <tr>\n",
       "      <th>11</th>\n",
       "      <td>5.0</td>\n",
       "      <td>53.240000</td>\n",
       "      <td>8.371858</td>\n",
       "      <td>42.00</td>\n",
       "      <td>47.20</td>\n",
       "      <td>56.0</td>\n",
       "      <td>59.0</td>\n",
       "      <td>62.0</td>\n",
       "    </tr>\n",
       "    <tr>\n",
       "      <th>12</th>\n",
       "      <td>14.0</td>\n",
       "      <td>57.285714</td>\n",
       "      <td>9.522674</td>\n",
       "      <td>44.00</td>\n",
       "      <td>50.25</td>\n",
       "      <td>55.5</td>\n",
       "      <td>65.0</td>\n",
       "      <td>75.0</td>\n",
       "    </tr>\n",
       "    <tr>\n",
       "      <th>13</th>\n",
       "      <td>6.0</td>\n",
       "      <td>59.500000</td>\n",
       "      <td>11.022704</td>\n",
       "      <td>45.00</td>\n",
       "      <td>51.75</td>\n",
       "      <td>61.0</td>\n",
       "      <td>65.0</td>\n",
       "      <td>75.0</td>\n",
       "    </tr>\n",
       "  </tbody>\n",
       "</table>\n",
       "</div>"
      ],
      "text/plain": [
       "             count       mean        std    min    25%   50%    75%    max\n",
       "space_floor                                                               \n",
       "1             75.0  87.796133  61.637306  11.96  48.50  66.0  100.0  300.0\n",
       "10            21.0  56.884286  11.167416  36.00  47.00  59.0   65.0   82.0\n",
       "11             5.0  53.240000   8.371858  42.00  47.20  56.0   59.0   62.0\n",
       "12            14.0  57.285714   9.522674  44.00  50.25  55.5   65.0   75.0\n",
       "13             6.0  59.500000  11.022704  45.00  51.75  61.0   65.0   75.0"
      ]
     },
     "execution_count": 45,
     "metadata": {},
     "output_type": "execute_result"
    }
   ],
   "source": [
    "ny_office_lease.groupby('space_floor')['rate'].describe().head()"
   ]
  },
  {
   "cell_type": "markdown",
   "metadata": {},
   "source": [
    "How can these be classified? It's going to be somewhat arbitrary:\n",
    ">\"base\": basement\n",
    "\n",
    ">\"lower\": Meazzaine, Concourse, Floors 1-5\n",
    "\n",
    ">\"mid\": 5-14\n",
    "\n",
    ">\"high\": 15-24\n",
    "\n",
    ">\"upper\": 25+, Pent"
   ]
  },
  {
   "cell_type": "code",
   "execution_count": 46,
   "metadata": {
    "collapsed": true
   },
   "outputs": [],
   "source": [
    "def floor_class (floor):\n",
    "    if floor == 'Basement':\n",
    "        return 'base'\n",
    "    elif floor == 'Concourse':\n",
    "        return 'lower'\n",
    "    elif floor == 'Mezzanine':\n",
    "        return 'lower'\n",
    "    elif floor == 'Pen':\n",
    "        return 'upper'\n",
    "    else:\n",
    "        floor = int(floor)\n",
    "        if floor < 5:\n",
    "            return 'lower'\n",
    "        elif floor < 15:\n",
    "            return 'mid'\n",
    "        elif floor < 25:\n",
    "            return 'high'\n",
    "        else:\n",
    "            return 'upper'\n",
    "    return None"
   ]
  },
  {
   "cell_type": "code",
   "execution_count": 47,
   "metadata": {
    "collapsed": true
   },
   "outputs": [],
   "source": [
    "ny_office_lease['floor_class'] = ny_office_lease['space_floor'].apply(lambda fl:floor_class(fl))"
   ]
  },
  {
   "cell_type": "code",
   "execution_count": 48,
   "metadata": {},
   "outputs": [
    {
     "data": {
      "text/plain": [
       "Text(0.5,1,'Rental rate by floor of rental unit')"
      ]
     },
     "execution_count": 48,
     "metadata": {},
     "output_type": "execute_result"
    },
    {
     "data": {
      "image/png": "[encoded data removed]",
      "text/plain": [
       "<matplotlib.figure.Figure at 0x169c1923e10>"
      ]
     },
     "metadata": {},
     "output_type": "display_data"
    }
   ],
   "source": [
    "fig,ax=plt.subplots(ncols=2,figsize=(12,8))\n",
    "plt.subplot(1,2,1)\n",
    "sns.boxplot(x='floor_class',y='log_building_sqft',data=ny_office_lease)\n",
    "plt.title('Log building size by floor of rental unit')\n",
    "plt.subplot(1,2,2)\n",
    "sns.swarmplot(x='floor_class',y='rate',data=ny_office_lease)\n",
    "plt.title('Rental rate by floor of rental unit')"
   ]
  },
  {
   "cell_type": "code",
   "execution_count": null,
   "metadata": {
    "collapsed": true
   },
   "outputs": [],
   "source": []
  },
  {
   "cell_type": "markdown",
   "metadata": {},
   "source": [
    "### Service Type\n",
    "Utilities, etc.\n",
    "\n",
    "\"Negotiable\" and \"to be determined\" might be combinable. On the other hand, it might be determined to not be negotiable, so we can only do some limited groupings."
   ]
  },
  {
   "cell_type": "code",
   "execution_count": 49,
   "metadata": {
    "collapsed": true
   },
   "outputs": [],
   "source": [
    "# these are fine\n",
    "ny_office_lease.loc[ny_office_lease['service_type'] == 'Modified Gross','service_type'] = 'mod_gross'\n",
    "ny_office_lease.loc[ny_office_lease['service_type'] == 'Plus Electric','service_type'] = 'elec'\n",
    "\n",
    "# put these together\n",
    "ny_office_lease.loc[ny_office_lease['service_type'] == 'Tenant Electric','service_type'] = 'elec'\n",
    "ny_office_lease.loc[ny_office_lease['service_type'] == 'Plus Electric And Cleaning','service_type'] = 'elec'\n",
    "ny_office_lease.loc[ny_office_lease['service_type'] == 'Plus All Utilities','service_type'] = 'elec'\n",
    "\n",
    "# Put net, triple net in net\n",
    "ny_office_lease.loc[ny_office_lease['service_type'] == 'Net','service_type'] = 'net'\n",
    "ny_office_lease.loc[ny_office_lease['service_type'] == 'Triple Net','service_type'] = 'net'\n",
    "\n",
    "# Put tbd, neg in tbd\n",
    "ny_office_lease.loc[ny_office_lease['service_type'] == 'To Be Determined','service_type'] = 'tbd'\n",
    "ny_office_lease.loc[ny_office_lease['service_type'] == 'Negotiable','service_type'] = 'tbd'\n",
    "\n",
    "ny_office_lease.loc[ny_office_lease['service_type'] == 'Full Service Gross','service_type'] = 'fsg'"
   ]
  },
  {
   "cell_type": "code",
   "execution_count": 50,
   "metadata": {},
   "outputs": [
    {
     "data": {
      "text/html": [
       "<div>\n",
       "<style scoped>\n",
       "    .dataframe tbody tr th:only-of-type {\n",
       "        vertical-align: middle;\n",
       "    }\n",
       "\n",
       "    .dataframe tbody tr th {\n",
       "        vertical-align: top;\n",
       "    }\n",
       "\n",
       "    .dataframe thead th {\n",
       "        text-align: right;\n",
       "    }\n",
       "</style>\n",
       "<table border=\"1\" class=\"dataframe\">\n",
       "  <thead>\n",
       "    <tr style=\"text-align: right;\">\n",
       "      <th></th>\n",
       "      <th>count</th>\n",
       "      <th>mean</th>\n",
       "      <th>std</th>\n",
       "      <th>min</th>\n",
       "      <th>25%</th>\n",
       "      <th>50%</th>\n",
       "      <th>75%</th>\n",
       "      <th>max</th>\n",
       "    </tr>\n",
       "    <tr>\n",
       "      <th>service_type</th>\n",
       "      <th></th>\n",
       "      <th></th>\n",
       "      <th></th>\n",
       "      <th></th>\n",
       "      <th></th>\n",
       "      <th></th>\n",
       "      <th></th>\n",
       "      <th></th>\n",
       "    </tr>\n",
       "  </thead>\n",
       "  <tbody>\n",
       "    <tr>\n",
       "      <th>elec</th>\n",
       "      <td>165.0</td>\n",
       "      <td>62.591576</td>\n",
       "      <td>46.017399</td>\n",
       "      <td>21.33</td>\n",
       "      <td>48.00</td>\n",
       "      <td>58.0</td>\n",
       "      <td>65.0000</td>\n",
       "      <td>584.28</td>\n",
       "    </tr>\n",
       "    <tr>\n",
       "      <th>fsg</th>\n",
       "      <td>76.0</td>\n",
       "      <td>98.268289</td>\n",
       "      <td>111.225982</td>\n",
       "      <td>6.00</td>\n",
       "      <td>50.00</td>\n",
       "      <td>63.0</td>\n",
       "      <td>91.4775</td>\n",
       "      <td>720.00</td>\n",
       "    </tr>\n",
       "    <tr>\n",
       "      <th>mod_gross</th>\n",
       "      <td>246.0</td>\n",
       "      <td>64.455610</td>\n",
       "      <td>36.406544</td>\n",
       "      <td>11.96</td>\n",
       "      <td>47.05</td>\n",
       "      <td>56.0</td>\n",
       "      <td>70.0000</td>\n",
       "      <td>300.00</td>\n",
       "    </tr>\n",
       "    <tr>\n",
       "      <th>net</th>\n",
       "      <td>43.0</td>\n",
       "      <td>65.988605</td>\n",
       "      <td>34.812040</td>\n",
       "      <td>25.00</td>\n",
       "      <td>45.00</td>\n",
       "      <td>56.0</td>\n",
       "      <td>80.0000</td>\n",
       "      <td>186.00</td>\n",
       "    </tr>\n",
       "    <tr>\n",
       "      <th>tbd</th>\n",
       "      <td>9.0</td>\n",
       "      <td>86.578889</td>\n",
       "      <td>37.058616</td>\n",
       "      <td>42.00</td>\n",
       "      <td>60.00</td>\n",
       "      <td>70.0</td>\n",
       "      <td>117.0000</td>\n",
       "      <td>150.00</td>\n",
       "    </tr>\n",
       "  </tbody>\n",
       "</table>\n",
       "</div>"
      ],
      "text/plain": [
       "              count       mean         std    min    25%   50%       75%  \\\n",
       "service_type                                                               \n",
       "elec          165.0  62.591576   46.017399  21.33  48.00  58.0   65.0000   \n",
       "fsg            76.0  98.268289  111.225982   6.00  50.00  63.0   91.4775   \n",
       "mod_gross     246.0  64.455610   36.406544  11.96  47.05  56.0   70.0000   \n",
       "net            43.0  65.988605   34.812040  25.00  45.00  56.0   80.0000   \n",
       "tbd             9.0  86.578889   37.058616  42.00  60.00  70.0  117.0000   \n",
       "\n",
       "                 max  \n",
       "service_type          \n",
       "elec          584.28  \n",
       "fsg           720.00  \n",
       "mod_gross     300.00  \n",
       "net           186.00  \n",
       "tbd           150.00  "
      ]
     },
     "execution_count": 50,
     "metadata": {},
     "output_type": "execute_result"
    }
   ],
   "source": [
    "ny_office_lease.groupby('service_type')['rate'].describe()"
   ]
  },
  {
   "cell_type": "markdown",
   "metadata": {},
   "source": [
    "### Space Use\n",
    ">\"Executive\": Office(Executive Suite), Office/Medical(Executive Suite)\n",
    "\n",
    ">\"Office\": keep\n",
    "\n",
    ">\"Retail\": keep\n",
    "\n",
    ">\"Medical\": keep\n",
    "\n",
    ">\"Mixed\": Office/Medical, Office/Retail"
   ]
  },
  {
   "cell_type": "code",
   "execution_count": 51,
   "metadata": {
    "collapsed": true
   },
   "outputs": [],
   "source": [
    "ny_office_lease.loc[ny_office_lease['space_use'] == 'Office(Executive Suite)','space_use'] = 'executive'\n",
    "ny_office_lease.loc[ny_office_lease['space_use'] == 'Office/Medical(Executive Suite)','space_use'] = 'executive'\n",
    "ny_office_lease.loc[ny_office_lease['space_use'] == 'Office/Medical','space_use'] = 'mixed'\n",
    "ny_office_lease.loc[ny_office_lease['space_use'] == 'Office/Retail','space_use'] = 'mixed'\n",
    "ny_office_lease.loc[ny_office_lease['space_use'] == 'Medical','space_use'] = 'mixed'\n",
    "ny_office_lease.loc[ny_office_lease['space_use'] == 'Office','space_use'] = 'office'\n",
    "ny_office_lease.loc[ny_office_lease['space_use'] == 'Retail','space_use'] = 'retail'"
   ]
  },
  {
   "cell_type": "code",
   "execution_count": 52,
   "metadata": {},
   "outputs": [
    {
     "data": {
      "text/plain": [
       "array(['office', 'mixed', 'executive', 'retail'], dtype=object)"
      ]
     },
     "execution_count": 52,
     "metadata": {},
     "output_type": "execute_result"
    }
   ],
   "source": [
    "ny_office_lease['space_use'].unique()"
   ]
  },
  {
   "cell_type": "code",
   "execution_count": 53,
   "metadata": {},
   "outputs": [
    {
     "data": {
      "text/plain": [
       "Text(0.5,1,'Rate by type by building class')"
      ]
     },
     "execution_count": 53,
     "metadata": {},
     "output_type": "execute_result"
    },
    {
     "data": {
      "image/png": "[encoded data removed]",
      "text/plain": [
       "<matplotlib.figure.Figure at 0x169c19c74a8>"
      ]
     },
     "metadata": {},
     "output_type": "display_data"
    }
   ],
   "source": [
    "sns.barplot(x='building_class', y='rate', hue='space_use', data=ny_office_lease)\n",
    "plt.title('Rate by type by building class')"
   ]
  },
  {
   "cell_type": "markdown",
   "metadata": {},
   "source": [
    "Retail tends to be the most expensive in all classes but B, but we saw that class B had some major executive office outliers above."
   ]
  },
  {
   "cell_type": "markdown",
   "metadata": {},
   "source": [
    "### Building age\n",
    "This seems to be all over the place. There are many old historical buildings that are well maintained and clearly not falling apart. This doesn't seem to be too big of a deal for Manhattan."
   ]
  },
  {
   "cell_type": "markdown",
   "metadata": {},
   "source": [
    "Within each location cluster, there doesn't seem to be much of a relationship between building age and rental rate either."
   ]
  },
  {
   "cell_type": "code",
   "execution_count": 54,
   "metadata": {},
   "outputs": [
    {
     "data": {
      "text/plain": [
       "Text(0.5,1,\"Doesn't seem to be anything there\")"
      ]
     },
     "execution_count": 54,
     "metadata": {},
     "output_type": "execute_result"
    },
    {
     "data": {
      "image/png": "[encoded data removed]",
      "text/plain": [
       "<matplotlib.figure.Figure at 0x169c15976a0>"
      ]
     },
     "metadata": {},
     "output_type": "display_data"
    }
   ],
   "source": [
    "plt.plot(ny_office_lease['building_age'], ny_office_lease['rate'], 'o', markersize=2)\n",
    "plt.title(\"Doesn't seem to be anything there\")"
   ]
  },
  {
   "cell_type": "markdown",
   "metadata": {},
   "source": [
    "## Feature Transformations\n",
    "\n",
    "\n",
    "### Rate/sqft/year -> Monthly Rent\n",
    "\n",
    "With some significant outliers, overall the rate does not seem to depend too much on unit size, and so on average lease rates increase linearly with square footage. Getting the monthly rate is useful for visualization, because the relationship between unit size and price is generally pretty linear. However, we will not use it in the model or there will significant leakage, and anyway it does not really affect our results based on a mean absolute log deviation metric."
   ]
  },
  {
   "cell_type": "code",
   "execution_count": 55,
   "metadata": {},
   "outputs": [
    {
     "data": {
      "text/plain": [
       "Text(27.0568,0.5,'Rate')"
      ]
     },
     "execution_count": 55,
     "metadata": {},
     "output_type": "execute_result"
    },
    {
     "data": {
      "image/png": "[encoded data removed]",
      "text/plain": [
       "<matplotlib.figure.Figure at 0x169c12bce10>"
      ]
     },
     "metadata": {},
     "output_type": "display_data"
    }
   ],
   "source": [
    "ny_office_lease['log_monthly_rate'] = np.log(ny_office_lease['rate'] * ny_office_lease['space_sqft'] / 12)\n",
    "ny_office_lease['log_space_sqft'] = np.log(ny_office_lease['space_sqft'])\n",
    "\n",
    "# let's sneak this in here too\n",
    "ny_office_lease['log_rate'] = np.log(ny_office_lease['rate'])\n",
    "\n",
    "sns.lmplot(x='log_space_sqft',y='log_monthly_rate',hue='space_use',data=ny_office_lease, size=10,aspect=1)\n",
    "plt.title('Rate vs unit size by unit type')\n",
    "plt.xlabel('Unit Size')\n",
    "plt.ylabel('Rate')"
   ]
  },
  {
   "cell_type": "markdown",
   "metadata": {},
   "source": [
    "### Building size relative to cluster mean\n",
    "\n",
    "The size of a building compared to its neighbours could have an effect on price. If building height data or highest floor were known, we could also find the relative height of a building. However, there should be high correlation between total building floor space and height within a cluster (e.g. in a cluster with mostly skyscrapers, it's unlikely there will be a building like the Pentagon, with only 5 above ground storeys but millions of square feet in floors). Size/height past a certain point could have prestige attached to it: a 55 storey building might be more prestigious than a 50 storey one, but 10 and 15 aren't too different.\n",
    "\n",
    "The area variables have already been log transformed, so this variable is just log(building_sqft) - log(cluster mean)."
   ]
  },
  {
   "cell_type": "code",
   "execution_count": 56,
   "metadata": {
    "collapsed": true
   },
   "outputs": [],
   "source": [
    "cluster_mean_sqft = dict(zip(range(k),ny_office_lease.groupby('location_cluster')['building_sqft'].describe()['mean']))"
   ]
  },
  {
   "cell_type": "code",
   "execution_count": 57,
   "metadata": {
    "collapsed": true
   },
   "outputs": [],
   "source": [
    "ny_office_lease['cluster_mean_sqft'] = np.log(ny_office_lease['location_cluster'].map(cluster_mean_sqft))"
   ]
  },
  {
   "cell_type": "code",
   "execution_count": 58,
   "metadata": {
    "collapsed": true
   },
   "outputs": [],
   "source": [
    "ny_office_lease['building_rel_size'] = ny_office_lease['log_building_sqft'] - ny_office_lease['cluster_mean_sqft']"
   ]
  },
  {
   "cell_type": "markdown",
   "metadata": {},
   "source": [
    "The information given by this new measure is similar, but changes some of the orderings."
   ]
  },
  {
   "cell_type": "code",
   "execution_count": 59,
   "metadata": {
    "scrolled": false
   },
   "outputs": [
    {
     "data": {
      "text/plain": [
       "<matplotlib.axes._subplots.AxesSubplot at 0x169c2d35518>"
      ]
     },
     "execution_count": 59,
     "metadata": {},
     "output_type": "execute_result"
    },
    {
     "data": {
      "image/png": "[encoded data removed]",
      "text/plain": [
       "<matplotlib.figure.Figure at 0x169c2cc6ac8>"
      ]
     },
     "metadata": {},
     "output_type": "display_data"
    }
   ],
   "source": [
    "fig,(ax1,ax2)=plt.subplots(ncols=2,figsize=(12,8))\n",
    "sns.regplot(x='building_rel_size',y='log_rate',data=ny_office_lease, ax=ax1)\n",
    "\n",
    "sns.regplot(x='log_building_sqft',y='log_rate',data=ny_office_lease, ax=ax2)"
   ]
  },
  {
   "cell_type": "markdown",
   "metadata": {},
   "source": [
    "The fit is still not great, but gives us different information than just the size of the building (the orderings are different)."
   ]
  },
  {
   "cell_type": "markdown",
   "metadata": {},
   "source": [
    "### Building size relative to same class\n",
    "My class A building is bigger/better than your class A building! Or is it?"
   ]
  },
  {
   "cell_type": "code",
   "execution_count": 60,
   "metadata": {
    "collapsed": true
   },
   "outputs": [],
   "source": [
    "building_class_mean_sqft = dict(ny_office_lease.groupby('building_class')['building_sqft'].describe()['mean'])"
   ]
  },
  {
   "cell_type": "code",
   "execution_count": 61,
   "metadata": {
    "collapsed": true
   },
   "outputs": [],
   "source": [
    "ny_office_lease['building_class_mean_sqft'] = np.log(ny_office_lease['building_class'].map(building_class_mean_sqft))"
   ]
  },
  {
   "cell_type": "code",
   "execution_count": 62,
   "metadata": {
    "collapsed": true
   },
   "outputs": [],
   "source": [
    "ny_office_lease['building_rel_to_class'] = ny_office_lease['log_building_sqft'] - ny_office_lease['building_class_mean_sqft']"
   ]
  },
  {
   "cell_type": "code",
   "execution_count": 63,
   "metadata": {},
   "outputs": [
    {
     "data": {
      "text/plain": [
       "<matplotlib.axes._subplots.AxesSubplot at 0x169c323d358>"
      ]
     },
     "execution_count": 63,
     "metadata": {},
     "output_type": "execute_result"
    },
    {
     "data": {
      "image/png": "[encoded data removed]",
      "text/plain": [
       "<matplotlib.figure.Figure at 0x169c2d5ab38>"
      ]
     },
     "metadata": {},
     "output_type": "display_data"
    }
   ],
   "source": [
    "fig,(ax1,ax2)=plt.subplots(ncols=2,figsize=(12,8))\n",
    "sns.regplot(x='building_rel_to_class',y='log_monthly_rate',data=ny_office_lease, ax=ax1)\n",
    "\n",
    "sns.regplot(x='building_rel_to_class',y='rate',data=ny_office_lease, ax=ax2)"
   ]
  },
  {
   "cell_type": "markdown",
   "metadata": {},
   "source": [
    "This does not seem to be a particularly informative measure, so we are not going to include it in the model."
   ]
  },
  {
   "cell_type": "markdown",
   "metadata": {
    "collapsed": true
   },
   "source": [
    "### Unit size relative to others of the same type\n",
    "\n",
    "Is it not reasonable to assume that, for example, a 200 square foot executive office in midtown will probably cost more than a 100 square foot executive office next door?"
   ]
  },
  {
   "cell_type": "code",
   "execution_count": 64,
   "metadata": {
    "collapsed": true
   },
   "outputs": [],
   "source": [
    "space_use_mean_sqft = dict(ny_office_lease.groupby('space_use')['space_sqft'].describe()['mean'])"
   ]
  },
  {
   "cell_type": "code",
   "execution_count": 65,
   "metadata": {
    "collapsed": true
   },
   "outputs": [],
   "source": [
    "ny_office_lease['space_use_mean_sqft'] = np.log(ny_office_lease['space_use'].map(space_use_mean_sqft))"
   ]
  },
  {
   "cell_type": "code",
   "execution_count": 66,
   "metadata": {
    "collapsed": true
   },
   "outputs": [],
   "source": [
    "ny_office_lease['space_rel_size'] = ny_office_lease['log_space_sqft'] - ny_office_lease['space_use_mean_sqft']"
   ]
  },
  {
   "cell_type": "code",
   "execution_count": 67,
   "metadata": {},
   "outputs": [
    {
     "data": {
      "text/plain": [
       "<matplotlib.axes._subplots.AxesSubplot at 0x169c3a29fd0>"
      ]
     },
     "execution_count": 67,
     "metadata": {},
     "output_type": "execute_result"
    },
    {
     "data": {
      "image/png": "[encoded data removed]",
      "text/plain": [
       "<matplotlib.figure.Figure at 0x169c3252e80>"
      ]
     },
     "metadata": {},
     "output_type": "display_data"
    }
   ],
   "source": [
    "fig,(ax1,ax2)=plt.subplots(ncols=2,figsize=(12,8))\n",
    "sns.regplot(x='space_rel_size',y='log_monthly_rate',data=ny_office_lease, ax=ax1)\n",
    "\n",
    "sns.regplot(x='space_rel_size',y='rate',data=ny_office_lease, ax=ax2)"
   ]
  },
  {
   "cell_type": "markdown",
   "metadata": {},
   "source": [
    "Of course, the general trends are still the same: as floor space increases, monthly rate increases, and $/sqft/year decreases slightly. But it is hoped that this can give us information about size differences specific to a type.\n",
    "\n",
    "We will include this measure and the relative building size to cluster mean."
   ]
  },
  {
   "cell_type": "markdown",
   "metadata": {},
   "source": [
    "## Making dummy variables"
   ]
  },
  {
   "cell_type": "code",
   "execution_count": 68,
   "metadata": {
    "collapsed": true
   },
   "outputs": [],
   "source": [
    "def dummify(df, col):\n",
    "    dummies=pd.get_dummies(df[col], prefix=col, drop_first=False)\n",
    "    df = pd.concat((df,dummies),axis=1)\n",
    "    return df"
   ]
  },
  {
   "cell_type": "code",
   "execution_count": 69,
   "metadata": {
    "collapsed": true,
    "scrolled": true
   },
   "outputs": [],
   "source": [
    "ny_office_lease = dummify(ny_office_lease,'building_class')"
   ]
  },
  {
   "cell_type": "code",
   "execution_count": 70,
   "metadata": {
    "collapsed": true
   },
   "outputs": [],
   "source": [
    "ny_office_lease = dummify(ny_office_lease,'location_cluster')"
   ]
  },
  {
   "cell_type": "code",
   "execution_count": 71,
   "metadata": {
    "collapsed": true
   },
   "outputs": [],
   "source": [
    "ny_office_lease = dummify(ny_office_lease,'floor_class')"
   ]
  },
  {
   "cell_type": "code",
   "execution_count": 72,
   "metadata": {
    "collapsed": true
   },
   "outputs": [],
   "source": [
    "ny_office_lease = dummify(ny_office_lease,'service_type')"
   ]
  },
  {
   "cell_type": "code",
   "execution_count": 73,
   "metadata": {
    "collapsed": true
   },
   "outputs": [],
   "source": [
    "ny_office_lease = dummify(ny_office_lease,'space_use')"
   ]
  },
  {
   "cell_type": "markdown",
   "metadata": {},
   "source": [
    "We decide not to use building or the walk/transit scores. Age may be more useful in some clusters than in others. The walk/transit scores tend to all be very high, with averages close to 100, making them relatively less informative."
   ]
  },
  {
   "cell_type": "code",
   "execution_count": 81,
   "metadata": {
    "collapsed": true
   },
   "outputs": [],
   "source": [
    "columns2 = ['name', 'log_rate', 'log_building_sqft', \n",
    "       'log_space_sqft','building_class_A','building_class_B', 'building_class_C',\n",
    "       'building_class_D','space_use_executive',\n",
    "       'space_use_mixed', 'space_use_office',\n",
    "       'space_use_retail',\n",
    "        'location_cluster_0',\n",
    "       'location_cluster_1', 'location_cluster_2', 'location_cluster_3',\n",
    "       'location_cluster_4', 'location_cluster_5', 'location_cluster_6',\n",
    "            'building_rel_size', 'space_rel_size',\n",
    "                   'service_type_elec', 'service_type_fsg', 'service_type_mod_gross',\n",
    "       'service_type_net', 'service_type_tbd'\n",
    "           ]"
   ]
  },
  {
   "cell_type": "code",
   "execution_count": 82,
   "metadata": {},
   "outputs": [],
   "source": [
    "data=ny_office_lease[columns2].copy()"
   ]
  },
  {
   "cell_type": "markdown",
   "metadata": {},
   "source": [
    "## Predicting monthly rental rates\n",
    "\n",
    "Our loss function will be mean absolute deviation of log monthly rent: $MAD = mean(\\left | rent - predictedrent \\right |)$, which gives us an approximation of the percent deviation. Or rather, an approximation of the average of (lower/higher) and (higher/lower).\n",
    "\n",
    "This is a much more informative measure than something like $R^{2}$ for price prediction, and gives us an approximation of the average percentage deviation from the true price."
   ]
  },
  {
   "cell_type": "code",
   "execution_count": 98,
   "metadata": {
    "collapsed": true
   },
   "outputs": [],
   "source": [
    "from sklearn.model_selection import train_test_split"
   ]
  },
  {
   "cell_type": "code",
   "execution_count": 99,
   "metadata": {},
   "outputs": [],
   "source": [
    "holdout = data[data.isnull()['log_rate']==True]"
   ]
  },
  {
   "cell_type": "code",
   "execution_count": 100,
   "metadata": {
    "collapsed": true
   },
   "outputs": [],
   "source": [
    "train = data[data.isnull()['log_rate']==False]"
   ]
  },
  {
   "cell_type": "code",
   "execution_count": 101,
   "metadata": {},
   "outputs": [],
   "source": [
    "X=train.drop(['name','log_rate'],axis=1)\n",
    "y=train['log_rate']"
   ]
  },
  {
   "cell_type": "code",
   "execution_count": 102,
   "metadata": {},
   "outputs": [],
   "source": [
    "from sklearn.model_selection import train_test_split, cross_val_predict\n",
    "from sklearn.metrics import accuracy_score, r2_score, mean_squared_error\n",
    "from sklearn.manifold import TSNE\n",
    "from sklearn.decomposition import PCA\n",
    "from sklearn.preprocessing import MinMaxScaler, StandardScaler\n",
    "from sklearn.grid_search import RandomizedSearchCV\n",
    "from scipy.stats import randint, uniform\n",
    "import xgboost as xgb\n",
    "from sklearn.linear_model import LinearRegression\n",
    "from sklearn.feature_selection import RFECV\n",
    "from sklearn.ensemble import GradientBoostingRegressor, RandomForestRegressor\n",
    "from pandas.plotting import scatter_matrix\n",
    "%matplotlib inline"
   ]
  },
  {
   "cell_type": "code",
   "execution_count": 103,
   "metadata": {
    "collapsed": true
   },
   "outputs": [],
   "source": [
    "def mald (val, target):\n",
    "    return np.mean(abs(np.log(target)-np.log(val)))\n",
    "\n",
    "def mad (val,target):\n",
    "    return np.mean(abs(target-val))"
   ]
  },
  {
   "cell_type": "code",
   "execution_count": 104,
   "metadata": {
    "collapsed": true
   },
   "outputs": [],
   "source": [
    "X_train, X_test, y_train, y_test = train_test_split(X, y, test_size=0.30)"
   ]
  },
  {
   "cell_type": "code",
   "execution_count": 105,
   "metadata": {
    "collapsed": true
   },
   "outputs": [],
   "source": [
    "grad_test = GradientBoostingRegressor(learning_rate=0.05,n_estimators=350,loss='lad')\n",
    "hyper_params = {'n_estimators': randint(400, 800),\n",
    "                'max_depth': randint(1,10),\n",
    "                'subsample': uniform(0,1),\n",
    "                'min_samples_split': randint(2,5),\n",
    "                'min_samples_leaf': randint(1,5)}"
   ]
  },
  {
   "cell_type": "code",
   "execution_count": 106,
   "metadata": {},
   "outputs": [
    {
     "name": "stdout",
     "output_type": "stream",
     "text": [
      "Fitting 10 folds for each of 10 candidates, totalling 100 fits\n"
     ]
    },
    {
     "name": "stderr",
     "output_type": "stream",
     "text": [
      "[Parallel(n_jobs=4)]: Done  17 tasks      | elapsed:    4.2s\n",
      "[Parallel(n_jobs=4)]: Done  90 tasks      | elapsed:   25.3s\n",
      "[Parallel(n_jobs=4)]: Done 100 out of 100 | elapsed:   28.3s finished\n"
     ]
    },
    {
     "data": {
      "text/plain": [
       "({'max_depth': 4,\n",
       "  'min_samples_leaf': 3,\n",
       "  'min_samples_split': 3,\n",
       "  'n_estimators': 650,\n",
       "  'subsample': 0.54311857938350772},\n",
       " 0.23947323257693923)"
      ]
     },
     "execution_count": 106,
     "metadata": {},
     "output_type": "execute_result"
    }
   ],
   "source": [
    "search = RandomizedSearchCV(grad_test, param_distributions=hyper_params ,n_jobs=4, verbose=4, cv=10)\n",
    "search.fit(X_train,y_train)\n",
    "search.best_params_, search.best_score_"
   ]
  },
  {
   "cell_type": "code",
   "execution_count": 107,
   "metadata": {},
   "outputs": [
    {
     "name": "stdout",
     "output_type": "stream",
     "text": [
      "Fitting 10 folds for each of 10 candidates, totalling 100 fits\n"
     ]
    },
    {
     "name": "stderr",
     "output_type": "stream",
     "text": [
      "[Parallel(n_jobs=4)]: Done  17 tasks      | elapsed:    6.2s\n",
      "[Parallel(n_jobs=4)]: Done  90 tasks      | elapsed:   25.6s\n",
      "[Parallel(n_jobs=4)]: Done 100 out of 100 | elapsed:   26.1s finished\n"
     ]
    },
    {
     "data": {
      "text/plain": [
       "({'max_delta_step': 5,\n",
       "  'max_depth': 11,\n",
       "  'min_child_weight': 8,\n",
       "  'n_estimators': 1342,\n",
       "  'subsample': 0.20228105417770104},\n",
       " 0.23947323257693923)"
      ]
     },
     "execution_count": 107,
     "metadata": {},
     "output_type": "execute_result"
    }
   ],
   "source": [
    "xg = xgb.XGBRegressor(n_estimators=1000, max_depth=2, learning_rate=0.01, n_jobs=4, eval_metric='mae')\n",
    "hyper_params1 = {'n_estimators': randint(1000, 2000),\n",
    "                'max_depth': randint(1,12),\n",
    "               'subsample': uniform(0,1),\n",
    "               'min_child_weight': randint(1,10),\n",
    "               'max_delta_step': randint(1,10)}\n",
    "\n",
    "search1 = RandomizedSearchCV(xg, param_distributions=hyper_params1 ,n_jobs=4, verbose=4, cv=10)\n",
    "search1.fit(X_train,y_train)\n",
    "search1.best_params_, search.best_score_"
   ]
  },
  {
   "cell_type": "code",
   "execution_count": 108,
   "metadata": {},
   "outputs": [
    {
     "name": "stdout",
     "output_type": "stream",
     "text": [
      "LINEAR REGRESSION\n",
      "Training MAD:  0.2475398952839203\n",
      "Test MAD:  0.24777926876812942\n",
      "GRADIENT BOOSTED\n",
      "Training MAD:  0.09635959850524815\n",
      "Test MAD:  0.15781853629914303\n",
      "XGBOOST\n",
      "Training MAD:  0.16898002420298872\n",
      "Test MAD:  0.1956658384662866\n"
     ]
    }
   ],
   "source": [
    "# We can just use good old fashioned OLS as an example. Variants like ridge and lasso don't perform much differently here.\n",
    "lm=LinearRegression()\n",
    "lm.fit(X_train,y_train)\n",
    "lm_est = lm.predict(X_test)\n",
    "\n",
    "print('LINEAR REGRESSION')\n",
    "print('Training MAD: ',mad(y_train,lm.predict(X_train)))\n",
    "print('Test MAD: ', mad(y_test,lm_est))\n",
    "\n",
    "est = search.best_estimator_.predict(X_test)\n",
    "print('GRADIENT BOOSTED')\n",
    "print('Training MAD: ',mad(y_train,search.best_estimator_.predict(X_train)))\n",
    "print('Test MAD: ', mad(y_test,est))\n",
    "\n",
    "est1 = search1.best_estimator_.predict(X_test)\n",
    "print('XGBOOST')\n",
    "print('Training MAD: ',mad(y_train,search1.best_estimator_.predict(X_train)))\n",
    "print('Test MAD: ', mad(y_test,est1))"
   ]
  },
  {
   "cell_type": "code",
   "execution_count": 109,
   "metadata": {},
   "outputs": [
    {
     "name": "stdout",
     "output_type": "stream",
     "text": [
      "Feature importance under both gradient boosting methods\n"
     ]
    },
    {
     "data": {
      "text/html": [
       "<div>\n",
       "<style scoped>\n",
       "    .dataframe tbody tr th:only-of-type {\n",
       "        vertical-align: middle;\n",
       "    }\n",
       "\n",
       "    .dataframe tbody tr th {\n",
       "        vertical-align: top;\n",
       "    }\n",
       "\n",
       "    .dataframe thead th {\n",
       "        text-align: right;\n",
       "    }\n",
       "</style>\n",
       "<table border=\"1\" class=\"dataframe\">\n",
       "  <thead>\n",
       "    <tr style=\"text-align: right;\">\n",
       "      <th></th>\n",
       "      <th>feature</th>\n",
       "      <th>gb</th>\n",
       "      <th>xgboost</th>\n",
       "    </tr>\n",
       "  </thead>\n",
       "  <tbody>\n",
       "    <tr>\n",
       "      <th>0</th>\n",
       "      <td>log_building_sqft</td>\n",
       "      <td>0.184017</td>\n",
       "      <td>0.197762</td>\n",
       "    </tr>\n",
       "    <tr>\n",
       "      <th>1</th>\n",
       "      <td>log_space_sqft</td>\n",
       "      <td>0.188256</td>\n",
       "      <td>0.222778</td>\n",
       "    </tr>\n",
       "    <tr>\n",
       "      <th>2</th>\n",
       "      <td>building_class_A</td>\n",
       "      <td>0.005052</td>\n",
       "      <td>0.005003</td>\n",
       "    </tr>\n",
       "    <tr>\n",
       "      <th>3</th>\n",
       "      <td>building_class_B</td>\n",
       "      <td>0.013570</td>\n",
       "      <td>0.026991</td>\n",
       "    </tr>\n",
       "    <tr>\n",
       "      <th>4</th>\n",
       "      <td>building_class_C</td>\n",
       "      <td>0.015682</td>\n",
       "      <td>0.018697</td>\n",
       "    </tr>\n",
       "    <tr>\n",
       "      <th>5</th>\n",
       "      <td>building_class_D</td>\n",
       "      <td>0.010045</td>\n",
       "      <td>0.009348</td>\n",
       "    </tr>\n",
       "    <tr>\n",
       "      <th>6</th>\n",
       "      <td>space_use_executive</td>\n",
       "      <td>0.003123</td>\n",
       "      <td>0.003555</td>\n",
       "    </tr>\n",
       "    <tr>\n",
       "      <th>7</th>\n",
       "      <td>space_use_mixed</td>\n",
       "      <td>0.006839</td>\n",
       "      <td>0.014615</td>\n",
       "    </tr>\n",
       "    <tr>\n",
       "      <th>8</th>\n",
       "      <td>space_use_office</td>\n",
       "      <td>0.007044</td>\n",
       "      <td>0.048190</td>\n",
       "    </tr>\n",
       "    <tr>\n",
       "      <th>9</th>\n",
       "      <td>space_use_retail</td>\n",
       "      <td>0.015213</td>\n",
       "      <td>0.000922</td>\n",
       "    </tr>\n",
       "    <tr>\n",
       "      <th>10</th>\n",
       "      <td>location_cluster_0</td>\n",
       "      <td>0.009037</td>\n",
       "      <td>0.019223</td>\n",
       "    </tr>\n",
       "    <tr>\n",
       "      <th>11</th>\n",
       "      <td>location_cluster_1</td>\n",
       "      <td>0.017220</td>\n",
       "      <td>0.000395</td>\n",
       "    </tr>\n",
       "    <tr>\n",
       "      <th>12</th>\n",
       "      <td>location_cluster_2</td>\n",
       "      <td>0.014291</td>\n",
       "      <td>0.027650</td>\n",
       "    </tr>\n",
       "    <tr>\n",
       "      <th>13</th>\n",
       "      <td>location_cluster_3</td>\n",
       "      <td>0.009758</td>\n",
       "      <td>0.004872</td>\n",
       "    </tr>\n",
       "    <tr>\n",
       "      <th>14</th>\n",
       "      <td>location_cluster_4</td>\n",
       "      <td>0.010798</td>\n",
       "      <td>0.000527</td>\n",
       "    </tr>\n",
       "    <tr>\n",
       "      <th>15</th>\n",
       "      <td>location_cluster_5</td>\n",
       "      <td>0.014198</td>\n",
       "      <td>0.004082</td>\n",
       "    </tr>\n",
       "    <tr>\n",
       "      <th>16</th>\n",
       "      <td>location_cluster_6</td>\n",
       "      <td>0.013067</td>\n",
       "      <td>0.012245</td>\n",
       "    </tr>\n",
       "    <tr>\n",
       "      <th>17</th>\n",
       "      <td>building_rel_size</td>\n",
       "      <td>0.219114</td>\n",
       "      <td>0.173799</td>\n",
       "    </tr>\n",
       "    <tr>\n",
       "      <th>18</th>\n",
       "      <td>space_rel_size</td>\n",
       "      <td>0.201925</td>\n",
       "      <td>0.140092</td>\n",
       "    </tr>\n",
       "    <tr>\n",
       "      <th>19</th>\n",
       "      <td>service_type_elec</td>\n",
       "      <td>0.010605</td>\n",
       "      <td>0.020540</td>\n",
       "    </tr>\n",
       "    <tr>\n",
       "      <th>20</th>\n",
       "      <td>service_type_fsg</td>\n",
       "      <td>0.012588</td>\n",
       "      <td>0.019882</td>\n",
       "    </tr>\n",
       "    <tr>\n",
       "      <th>21</th>\n",
       "      <td>service_type_mod_gross</td>\n",
       "      <td>0.010969</td>\n",
       "      <td>0.028440</td>\n",
       "    </tr>\n",
       "    <tr>\n",
       "      <th>22</th>\n",
       "      <td>service_type_net</td>\n",
       "      <td>0.004622</td>\n",
       "      <td>0.000395</td>\n",
       "    </tr>\n",
       "    <tr>\n",
       "      <th>23</th>\n",
       "      <td>service_type_tbd</td>\n",
       "      <td>0.002967</td>\n",
       "      <td>0.000000</td>\n",
       "    </tr>\n",
       "  </tbody>\n",
       "</table>\n",
       "</div>"
      ],
      "text/plain": [
       "                   feature        gb   xgboost\n",
       "0        log_building_sqft  0.184017  0.197762\n",
       "1           log_space_sqft  0.188256  0.222778\n",
       "2         building_class_A  0.005052  0.005003\n",
       "3         building_class_B  0.013570  0.026991\n",
       "4         building_class_C  0.015682  0.018697\n",
       "5         building_class_D  0.010045  0.009348\n",
       "6      space_use_executive  0.003123  0.003555\n",
       "7          space_use_mixed  0.006839  0.014615\n",
       "8         space_use_office  0.007044  0.048190\n",
       "9         space_use_retail  0.015213  0.000922\n",
       "10      location_cluster_0  0.009037  0.019223\n",
       "11      location_cluster_1  0.017220  0.000395\n",
       "12      location_cluster_2  0.014291  0.027650\n",
       "13      location_cluster_3  0.009758  0.004872\n",
       "14      location_cluster_4  0.010798  0.000527\n",
       "15      location_cluster_5  0.014198  0.004082\n",
       "16      location_cluster_6  0.013067  0.012245\n",
       "17       building_rel_size  0.219114  0.173799\n",
       "18          space_rel_size  0.201925  0.140092\n",
       "19       service_type_elec  0.010605  0.020540\n",
       "20        service_type_fsg  0.012588  0.019882\n",
       "21  service_type_mod_gross  0.010969  0.028440\n",
       "22        service_type_net  0.004622  0.000395\n",
       "23        service_type_tbd  0.002967  0.000000"
      ]
     },
     "execution_count": 109,
     "metadata": {},
     "output_type": "execute_result"
    }
   ],
   "source": [
    "print('Feature importance under both gradient boosting methods')\n",
    "imp_df = pd.DataFrame(list(zip(X.columns,search.best_estimator_.feature_importances_,search1.best_estimator_.feature_importances_)))\n",
    "imp_df.columns=['feature','gb','xgboost']\n",
    "imp_df"
   ]
  },
  {
   "cell_type": "markdown",
   "metadata": {},
   "source": [
    "### Ensemble\n",
    "\n",
    "Let's try a weighted average of the two gradient boosted results. This can smooth out the errors in the individual models."
   ]
  },
  {
   "cell_type": "code",
   "execution_count": 116,
   "metadata": {},
   "outputs": [
    {
     "name": "stdout",
     "output_type": "stream",
     "text": [
      "ENSEMBLE\n",
      "Test MAD:  0.1729595820255819\n"
     ]
    }
   ],
   "source": [
    "ensemble_est = 0.5 * est + 0.5 * est1\n",
    "print('ENSEMBLE')\n",
    "print('Test MAD: ', mad(y_test,ensemble_est))"
   ]
  },
  {
   "cell_type": "markdown",
   "metadata": {},
   "source": [
    "The ensemble MAD seems to have a lower variance compared to the individual methods."
   ]
  },
  {
   "cell_type": "code",
   "execution_count": 111,
   "metadata": {
    "collapsed": true
   },
   "outputs": [],
   "source": [
    "all_data = data[columns2].copy()"
   ]
  },
  {
   "cell_type": "code",
   "execution_count": 117,
   "metadata": {
    "collapsed": true
   },
   "outputs": [],
   "source": [
    "X_all = ny_office_lease[columns2].drop(['name','log_rate'],axis=1)\n",
    "y_pred = search.best_estimator_.predict(X_all)\n",
    "\n",
    "results = pd.DataFrame(ny_office_lease[['name','space_use','space_sqft']])\n",
    "results['rate'] = np.exp(all_data['log_rate'])\n",
    "results['predictions'] = np.exp(y_pred)"
   ]
  },
  {
   "cell_type": "code",
   "execution_count": 118,
   "metadata": {
    "collapsed": true
   },
   "outputs": [],
   "source": [
    "results.to_csv('nyc_final_results.csv')"
   ]
  },
  {
   "cell_type": "markdown",
   "metadata": {
    "collapsed": true
   },
   "source": [
    "## Conclusion\n",
    "\n",
    "Ultimately, our mean average deviation tends to be in the 0.15-0.20 range, occassionally spiking to 0.25 depending on the validation split. With only 539 observations there is a fair amount of variability in our mean absolute deviation results, which are highly dependent on how the training and validation sets are split. Aside from obtaining more data from different sources or continuously adding new observations from the same source (which may add trend issues to the analysis), or researching more features, there are likely still ways to extract more information from the existing data.\n",
    "\n",
    "The relative building size metric, for example, ended up being a feature of great significance, and its inclusion single handedly reduced MAD from the 0.2-0.3 range to the 0.15-0.25 range. The type and class comparison metrics did not significantly reduce MAD, but the inclusion of the type comparison may have reduced some of the variations in the score due to sample splitting issues.\n",
    "\n",
    "There are also variations that would be impossible or extremely difficult to explain with our current data. For example, there are 3 50 square foot executive office suites at 1214-1216 Broadway, on the 2nd, 3rd and 4th floors. All other features are identical. The third office is listed at 352. But the first two are 455.69, which would be a 0.27 absolute log difference if we accurately predict one of the prices. Is the 4th floor that bad? Or is it because of the specific building in the 1214-1216 range? Or there is something specific about the third office for which we need some sort of up-close, possibly even subjective rating. Maybe it's next to a loud air vent, or the view isn't as good (although we're comparing the fourth floor with second and third). Or it gives people a bad feeling when they walk in. We just don't know, and this is something that can not be fixed by adding more observations.\n",
    "\n",
    "It would be interesting to see how this model fares with a larger dataset, especially if we could increase the unique addresses from 450 (of which only 225 unique addresses had at least one disclosed rate). A larger set would both help alleviate the validation issues and at the same time give us more information with which to predict test prices. Of course, more 'up close' features would also be helpful."
   ]
  }
 ],
 "metadata": {
  "kernelspec": {
   "display_name": "Python 3",
   "language": "python",
   "name": "python3"
  },
  "language_info": {
   "codemirror_mode": {
    "name": "ipython",
    "version": 3
   },
   "file_extension": ".py",
   "mimetype": "text/x-python",
   "name": "python",
   "nbconvert_exporter": "python",
   "pygments_lexer": "ipython3",
   "version": "3.6.3"
  }
 },
 "nbformat": 4,
 "nbformat_minor": 2
}
