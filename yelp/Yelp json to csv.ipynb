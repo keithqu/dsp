{
 "cells": [
  {
   "cell_type": "code",
   "execution_count": 2,
   "metadata": {},
   "outputs": [],
   "source": [
    "import pandas as pd\n",
    "import numpy as np\n",
    "import json\n",
    "import csv\n",
    "import seaborn as sns\n",
    "from glob import glob"
   ]
  },
  {
   "cell_type": "code",
   "execution_count": 3,
   "metadata": {},
   "outputs": [],
   "source": [
    "PATH = \"d:\\\\data\\\\yelpdata\\\\\"\n",
    "DATA = f'{PATH}dataset\\\\'\n",
    "PHOT = f'{PATH}photos\\\\'"
   ]
  },
  {
   "cell_type": "markdown",
   "metadata": {},
   "source": [
    "### Getting Ontario businesses"
   ]
  },
  {
   "cell_type": "code",
   "execution_count": 3,
   "metadata": {},
   "outputs": [],
   "source": [
    "business_cols = ['business_id','name','neighborhood','address','city','state','postal_code','latitude','longitude',\n",
    "       'stars','review_count','is_open','attributes','categories','hours']\n",
    "business_df = []\n",
    "for i,line in enumerate(open(f'{DATA}business.json', encoding='utf-8')):\n",
    "    line_data = []\n",
    "    for k,v in json.loads(line).items():\n",
    "        line_data.append(v)\n",
    "    business_df.append(line_data)\n",
    "business_df = pd.DataFrame(business_df)\n",
    "business_df.columns = business_cols"
   ]
  },
  {
   "cell_type": "code",
   "execution_count": 4,
   "metadata": {},
   "outputs": [],
   "source": [
    "business_on = business_df[business_df['state'] == 'ON'].copy()\n",
    "business_on.reset_index(drop=True,inplace=True)\n",
    "business_on.to_csv(f'{DATA}business_on.csv')"
   ]
  },
  {
   "cell_type": "code",
   "execution_count": 5,
   "metadata": {},
   "outputs": [],
   "source": [
    "ontario_business_ids = set(business_on['business_id'])"
   ]
  },
  {
   "cell_type": "code",
   "execution_count": 6,
   "metadata": {},
   "outputs": [],
   "source": [
    "del business_df"
   ]
  },
  {
   "cell_type": "markdown",
   "metadata": {},
   "source": [
    "### Getting Ontario reviews\n",
    "\n",
    "We get the date, which is great, because we can get the weather data. We can look at the effects of weather on both individual and aggregate user review scores. A simple hypothesis is that people tend to give better reviews in \"good\" weather, which we can test. It would be even better if we had the exact time of day (which I'm sure Yelp has), but we can't have everything."
   ]
  },
  {
   "cell_type": "code",
   "execution_count": 7,
   "metadata": {},
   "outputs": [],
   "source": [
    "review_cols = ['review_id','user_id','business_id','stars','date','text','useful','funny','cool']\n",
    "review_df = []\n",
    "for i,line in enumerate(open(f'{DATA}review.json', encoding='utf-8')):\n",
    "    line_data = []\n",
    "    for k,v in json.loads(line).items():\n",
    "        line_data.append(v)\n",
    "    review_df.append(line_data)\n",
    "review_df = pd.DataFrame(review_df)\n",
    "review_df.columns = review_cols"
   ]
  },
  {
   "cell_type": "markdown",
   "metadata": {},
   "source": [
    "Keep only Ontario/GTA businesses."
   ]
  },
  {
   "cell_type": "code",
   "execution_count": 9,
   "metadata": {},
   "outputs": [],
   "source": [
    "review_on = review_df[review_df['business_id'].isin(ontario_business_ids)].copy()\n",
    "review_on.reset_index(drop=True,inplace=True)"
   ]
  },
  {
   "cell_type": "code",
   "execution_count": 11,
   "metadata": {},
   "outputs": [],
   "source": [
    "review_on['text'] = review_on['text'].apply(lambda l: l.replace('\\n', ' ').replace('\"', '').replace('\\\\', ''))"
   ]
  },
  {
   "cell_type": "code",
   "execution_count": 12,
   "metadata": {},
   "outputs": [],
   "source": [
    "review_on.to_csv(f'{DATA}review_on.csv', quotechar='\"', escapechar=\"\\\\\")"
   ]
  },
  {
   "cell_type": "code",
   "execution_count": 13,
   "metadata": {},
   "outputs": [],
   "source": [
    "ontario_user_ids = set(review_on['user_id'])"
   ]
  },
  {
   "cell_type": "code",
   "execution_count": 14,
   "metadata": {},
   "outputs": [],
   "source": [
    "del review_df"
   ]
  },
  {
   "cell_type": "markdown",
   "metadata": {},
   "source": [
    "### Users who have reviewed Ontario businesses"
   ]
  },
  {
   "cell_type": "code",
   "execution_count": 105,
   "metadata": {},
   "outputs": [],
   "source": [
    "user_cols = ['user_id','name','review_count','yelping_since','friends','useful','funny','cool','fans','elite',\n",
    "            'average_stars','compliment_hot','compliment_more','compliment_profile','compliment_cute','compliment_list',\n",
    "            'compliment_note','compliment_plain','compliment_cool','compliment_funny','compliment_writer','compliment_photos']\n",
    "user_df = []\n",
    "for i,line in enumerate(open(f'{DATA}user.json', encoding='utf-8')):\n",
    "    line_data = []\n",
    "    for k,v in json.loads(line).items():\n",
    "        line_data.append(v)\n",
    "    user_df.append(line_data)\n",
    "user_df = pd.DataFrame(user_df)\n",
    "user_df.columns = user_cols"
   ]
  },
  {
   "cell_type": "code",
   "execution_count": 109,
   "metadata": {},
   "outputs": [],
   "source": [
    "user_on = user_df[user_df['user_id'].isin(ontario_user_ids)].copy()\n",
    "user_on.reset_index(drop=True,inplace=True)\n",
    "user_on.to_csv(f'{DATA}user_on.csv')"
   ]
  },
  {
   "cell_type": "code",
   "execution_count": 110,
   "metadata": {},
   "outputs": [],
   "source": [
    "del user_df"
   ]
  },
  {
   "cell_type": "markdown",
   "metadata": {},
   "source": [
    "### Photos for Ontario businesses"
   ]
  },
  {
   "cell_type": "code",
   "execution_count": 111,
   "metadata": {},
   "outputs": [],
   "source": [
    "photos_cols = ['caption','photo_id','business_id','label']\n",
    "photos_df = []\n",
    "for i,line in enumerate(open(f'{DATA}photos.json', encoding='utf-8')):\n",
    "    line_data = []\n",
    "    for k,v in json.loads(line).items():\n",
    "        line_data.append(v)\n",
    "    photos_df.append(line_data)\n",
    "photos_df = pd.DataFrame(photos_df)\n",
    "photos_df.columns = photos_cols"
   ]
  },
  {
   "cell_type": "code",
   "execution_count": 115,
   "metadata": {},
   "outputs": [],
   "source": [
    "photos_on = photos_df[photos_df['business_id'].isin(ontario_business_ids)].copy()\n",
    "photos_on.reset_index(drop=True,inplace=True)\n",
    "photos_on.to_csv(f'{DATA}photos_on.csv')"
   ]
  },
  {
   "cell_type": "code",
   "execution_count": 116,
   "metadata": {},
   "outputs": [],
   "source": [
    "del photos_df"
   ]
  },
  {
   "cell_type": "markdown",
   "metadata": {},
   "source": [
    "### Tips for Ontario businesses"
   ]
  },
  {
   "cell_type": "code",
   "execution_count": 118,
   "metadata": {},
   "outputs": [],
   "source": [
    "tip_cols = ['text','date','likes','business_id','user_id']\n",
    "tip_df = []\n",
    "for i,line in enumerate(open(f'{DATA}tip.json', encoding='utf-8')):\n",
    "    line_data = []\n",
    "    for k,v in json.loads(line).items():\n",
    "        line_data.append(v)\n",
    "    tip_df.append(line_data)\n",
    "tip_df = pd.DataFrame(tip_df)\n",
    "tip_df.columns = tip_cols"
   ]
  },
  {
   "cell_type": "code",
   "execution_count": 119,
   "metadata": {},
   "outputs": [],
   "source": [
    "tip_on = tip_df[tip_df['business_id'].isin(ontario_business_ids)].copy()\n",
    "tip_on.reset_index(drop=True,inplace=True)\n",
    "tip_on.to_csv(f'{DATA}tip_on.csv')"
   ]
  },
  {
   "cell_type": "code",
   "execution_count": 120,
   "metadata": {},
   "outputs": [],
   "source": [
    "del tip_df"
   ]
  },
  {
   "cell_type": "markdown",
   "metadata": {},
   "source": [
    "### Checkin times for Ontario businesses"
   ]
  },
  {
   "cell_type": "code",
   "execution_count": 121,
   "metadata": {},
   "outputs": [],
   "source": [
    "checkin_cols = ['time','business_id']\n",
    "checkin_df = []\n",
    "for i,line in enumerate(open(f'{DATA}checkin.json', encoding='utf-8')):\n",
    "    line_data = []\n",
    "    for k,v in json.loads(line).items():\n",
    "        line_data.append(v)\n",
    "    checkin_df.append(line_data)\n",
    "checkin_df = pd.DataFrame(checkin_df)\n",
    "checkin_df.columns = checkin_cols"
   ]
  },
  {
   "cell_type": "code",
   "execution_count": 122,
   "metadata": {},
   "outputs": [],
   "source": [
    "checkin_on = checkin_df[checkin_df['business_id'].isin(ontario_business_ids)].copy()\n",
    "checkin_on.reset_index(drop=True,inplace=True)\n",
    "checkin_on.to_csv(f'{DATA}checkin_on.csv')"
   ]
  },
  {
   "cell_type": "code",
   "execution_count": 123,
   "metadata": {},
   "outputs": [],
   "source": [
    "del checkin_df"
   ]
  },
  {
   "cell_type": "markdown",
   "metadata": {},
   "source": [
    "### Friends list\n",
    "\n",
    "Make a separate file only for people with friends on Yelp."
   ]
  },
  {
   "cell_type": "code",
   "execution_count": 14,
   "metadata": {},
   "outputs": [],
   "source": [
    "friends = pd.read_csv(f'{DATA}user_on.csv')"
   ]
  },
  {
   "cell_type": "code",
   "execution_count": 15,
   "metadata": {},
   "outputs": [],
   "source": [
    "friends = friends[friends.friends != '[]']"
   ]
  },
  {
   "cell_type": "code",
   "execution_count": 17,
   "metadata": {},
   "outputs": [],
   "source": [
    "friends.reset_index(inplace=True, drop=True)"
   ]
  },
  {
   "cell_type": "code",
   "execution_count": 22,
   "metadata": {},
   "outputs": [],
   "source": [
    "friends.drop('Unnamed: 0', inplace=True, axis=1)"
   ]
  },
  {
   "cell_type": "code",
   "execution_count": 24,
   "metadata": {},
   "outputs": [],
   "source": [
    "friends.to_csv(f'{DATA}user_on_friends.csv')"
   ]
  },
  {
   "cell_type": "markdown",
   "metadata": {},
   "source": [
    "### Smaller reviews file..."
   ]
  },
  {
   "cell_type": "code",
   "execution_count": 26,
   "metadata": {},
   "outputs": [],
   "source": [
    "smallrev = pd.read_csv(f'{DATA}review_on.csv')"
   ]
  },
  {
   "cell_type": "code",
   "execution_count": 29,
   "metadata": {},
   "outputs": [],
   "source": [
    "smallrev = smallrev[['review_id','user_id','business_id','stars']]"
   ]
  },
  {
   "cell_type": "code",
   "execution_count": 31,
   "metadata": {},
   "outputs": [],
   "source": [
    "smallrev.to_csv(f'{DATA}review_on_small.csv')"
   ]
  },
  {
   "cell_type": "code",
   "execution_count": null,
   "metadata": {},
   "outputs": [],
   "source": []
  }
 ],
 "metadata": {
  "kernelspec": {
   "display_name": "Python 3",
   "language": "python",
   "name": "python3"
  },
  "language_info": {
   "codemirror_mode": {
    "name": "ipython",
    "version": 3
   },
   "file_extension": ".py",
   "mimetype": "text/x-python",
   "name": "python",
   "nbconvert_exporter": "python",
   "pygments_lexer": "ipython3",
   "version": "3.6.3"
  }
 },
 "nbformat": 4,
 "nbformat_minor": 2
}
