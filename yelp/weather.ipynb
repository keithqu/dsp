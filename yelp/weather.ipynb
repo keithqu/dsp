{
 "cells": [
  {
   "cell_type": "code",
   "execution_count": 3,
   "metadata": {},
   "outputs": [],
   "source": [
    "import pandas as pd\n",
    "import numpy as np\n",
    "import json\n",
    "import seaborn as sns\n",
    "from glob import glob\n",
    "\n",
    "from fastai.conv_learner import *"
   ]
  },
  {
   "cell_type": "code",
   "execution_count": 14,
   "metadata": {},
   "outputs": [],
   "source": [
    "PATH = \"d:\\\\data\\\\yelpdata\\\\\"\n",
    "#PATH = \"/d/data/yelpdata/\"\n",
    "DATA = f'{PATH}dataset\\\\'\n",
    "PHOT = f'{PATH}photos\\\\'\n",
    "WEAT = f'{PATH}dataset\\\\weather\\\\'\n",
    "PROC = f'{PATH}dataset\\\\processed_weather\\\\'"
   ]
  },
  {
   "cell_type": "code",
   "execution_count": 5,
   "metadata": {},
   "outputs": [
    {
     "name": "stdout",
     "output_type": "stream",
     "text": [
      "d:\\data\\yelpdata\\dataset\\business_on.csv\n",
      "d:\\data\\yelpdata\\dataset\\checkin_on.csv\n",
      "d:\\data\\yelpdata\\dataset\\photos_on.csv\n",
      "d:\\data\\yelpdata\\dataset\\review_on.csv\n",
      "d:\\data\\yelpdata\\dataset\\review_on_small.csv\n",
      "d:\\data\\yelpdata\\dataset\\tip_on.csv\n",
      "d:\\data\\yelpdata\\dataset\\user_on.csv\n",
      "d:\\data\\yelpdata\\dataset\\user_on_friends.csv\n"
     ]
    }
   ],
   "source": [
    "for f in glob(DATA+\"*.csv\"): print (f)"
   ]
  },
  {
   "cell_type": "code",
   "execution_count": 30,
   "metadata": {},
   "outputs": [],
   "source": [
    "# merge timeseries csv files\n",
    "# automatically overwrites and puts things in order\n",
    "def merge_ts_csv (input_files = (), *args, output_file):\n",
    "    collector = pd.DataFrame()\n",
    "    for file in input_files:\n",
    "        current_series = pd.read_csv(file).set_index('Date/Time')\n",
    "        collector = collector.combine_first(current_series)\n",
    "    collector.to_csv(output_file)"
   ]
  },
  {
   "cell_type": "code",
   "execution_count": 31,
   "metadata": {},
   "outputs": [],
   "source": [
    "files = os.listdir(WEAT)"
   ]
  },
  {
   "cell_type": "code",
   "execution_count": 32,
   "metadata": {},
   "outputs": [],
   "source": [
    "for f in files:\n",
    "    current = pd.read_csv(WEAT+f, skiprows=16)\n",
    "    current.to_csv(PROC+f)"
   ]
  },
  {
   "cell_type": "code",
   "execution_count": 33,
   "metadata": {},
   "outputs": [],
   "source": [
    "proc_files = os.listdir(PROC)\n",
    "for i,f in enumerate(proc_files):\n",
    "    proc_files[i] = str(PROC)+f"
   ]
  },
  {
   "cell_type": "code",
   "execution_count": 35,
   "metadata": {},
   "outputs": [],
   "source": [
    "merge_ts_csv (input_files=proc_files, output_file = f'{PROC}all_weather.csv')"
   ]
  },
  {
   "cell_type": "code",
   "execution_count": null,
   "metadata": {},
   "outputs": [],
   "source": []
  }
 ],
 "metadata": {
  "kernelspec": {
   "display_name": "Python 3",
   "language": "python",
   "name": "python3"
  },
  "language_info": {
   "codemirror_mode": {
    "name": "ipython",
    "version": 3
   },
   "file_extension": ".py",
   "mimetype": "text/x-python",
   "name": "python",
   "nbconvert_exporter": "python",
   "pygments_lexer": "ipython3",
   "version": "3.6.3"
  }
 },
 "nbformat": 4,
 "nbformat_minor": 2
}
